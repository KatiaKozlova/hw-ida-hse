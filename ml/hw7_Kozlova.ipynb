{
 "cells": [
  {
   "cell_type": "markdown",
   "metadata": {},
   "source": [
    "# Домашнее задание 9. Настройка композиций алгоритмов\n",
    "\n",
    "В этом задании вы настроите случайный лес, градиентный бустинг, а также их композицию на данных\n",
    "соревнования [Mercedes-Benz Greener Manufacturing](https://www.kaggle.com/c/mercedes-benz-greener-manufacturing).\n",
    "\n",
    "Данные загружаются сразу из гитхаба ниже.\n",
    "\n",
    "Кратко о задаче: объекты - автомобили, целевая переменная - время, за которое автомобиль проходит тест, задача регрессии, качество измеряется с помощью $R^2$-метрики.\n",
    "\n",
    "Скрипт загрузки и базовой предобработки данных взят с [Kaggle Kernels](https://www.kaggle.com/anokas/mercedes-eda-xgboost-starter-0-55/notebook). В этом же ядре приводится базовый exploration данных."
   ]
  },
  {
   "cell_type": "markdown",
   "metadata": {},
   "source": [
    "## Загрузка данных"
   ]
  },
  {
   "cell_type": "code",
   "execution_count": 3,
   "metadata": {
    "_cell_guid": "45578147-cb22-cd2a-ccc7-1b81c82e137b"
   },
   "outputs": [],
   "source": [
    "import numpy as np\n",
    "import pandas as pd\n",
    "import os\n",
    "import gc\n",
    "import matplotlib.pyplot as plt\n",
    "# import seaborn as sns\n",
    "%matplotlib inline"
   ]
  },
  {
   "cell_type": "code",
   "execution_count": 4,
   "metadata": {
    "_cell_guid": "ba151bcc-e94e-3ff4-d213-4e80e7b4d956"
   },
   "outputs": [
    {
     "name": "stdout",
     "output_type": "stream",
     "text": [
      "Size of training set: 4209 rows and 378 columns\n"
     ]
    },
    {
     "data": {
      "text/html": [
       "<div>\n",
       "<style scoped>\n",
       "    .dataframe tbody tr th:only-of-type {\n",
       "        vertical-align: middle;\n",
       "    }\n",
       "\n",
       "    .dataframe tbody tr th {\n",
       "        vertical-align: top;\n",
       "    }\n",
       "\n",
       "    .dataframe thead th {\n",
       "        text-align: right;\n",
       "    }\n",
       "</style>\n",
       "<table border=\"1\" class=\"dataframe\">\n",
       "  <thead>\n",
       "    <tr style=\"text-align: right;\">\n",
       "      <th></th>\n",
       "      <th>ID</th>\n",
       "      <th>y</th>\n",
       "      <th>X0</th>\n",
       "      <th>X1</th>\n",
       "      <th>X2</th>\n",
       "      <th>X3</th>\n",
       "      <th>X4</th>\n",
       "      <th>X5</th>\n",
       "      <th>X6</th>\n",
       "      <th>X8</th>\n",
       "      <th>...</th>\n",
       "      <th>X375</th>\n",
       "      <th>X376</th>\n",
       "      <th>X377</th>\n",
       "      <th>X378</th>\n",
       "      <th>X379</th>\n",
       "      <th>X380</th>\n",
       "      <th>X382</th>\n",
       "      <th>X383</th>\n",
       "      <th>X384</th>\n",
       "      <th>X385</th>\n",
       "    </tr>\n",
       "  </thead>\n",
       "  <tbody>\n",
       "    <tr>\n",
       "      <th>0</th>\n",
       "      <td>0</td>\n",
       "      <td>130.81</td>\n",
       "      <td>k</td>\n",
       "      <td>v</td>\n",
       "      <td>at</td>\n",
       "      <td>a</td>\n",
       "      <td>d</td>\n",
       "      <td>u</td>\n",
       "      <td>j</td>\n",
       "      <td>o</td>\n",
       "      <td>...</td>\n",
       "      <td>0</td>\n",
       "      <td>0</td>\n",
       "      <td>1</td>\n",
       "      <td>0</td>\n",
       "      <td>0</td>\n",
       "      <td>0</td>\n",
       "      <td>0</td>\n",
       "      <td>0</td>\n",
       "      <td>0</td>\n",
       "      <td>0</td>\n",
       "    </tr>\n",
       "    <tr>\n",
       "      <th>1</th>\n",
       "      <td>6</td>\n",
       "      <td>88.53</td>\n",
       "      <td>k</td>\n",
       "      <td>t</td>\n",
       "      <td>av</td>\n",
       "      <td>e</td>\n",
       "      <td>d</td>\n",
       "      <td>y</td>\n",
       "      <td>l</td>\n",
       "      <td>o</td>\n",
       "      <td>...</td>\n",
       "      <td>1</td>\n",
       "      <td>0</td>\n",
       "      <td>0</td>\n",
       "      <td>0</td>\n",
       "      <td>0</td>\n",
       "      <td>0</td>\n",
       "      <td>0</td>\n",
       "      <td>0</td>\n",
       "      <td>0</td>\n",
       "      <td>0</td>\n",
       "    </tr>\n",
       "    <tr>\n",
       "      <th>2</th>\n",
       "      <td>7</td>\n",
       "      <td>76.26</td>\n",
       "      <td>az</td>\n",
       "      <td>w</td>\n",
       "      <td>n</td>\n",
       "      <td>c</td>\n",
       "      <td>d</td>\n",
       "      <td>x</td>\n",
       "      <td>j</td>\n",
       "      <td>x</td>\n",
       "      <td>...</td>\n",
       "      <td>0</td>\n",
       "      <td>0</td>\n",
       "      <td>0</td>\n",
       "      <td>0</td>\n",
       "      <td>0</td>\n",
       "      <td>0</td>\n",
       "      <td>1</td>\n",
       "      <td>0</td>\n",
       "      <td>0</td>\n",
       "      <td>0</td>\n",
       "    </tr>\n",
       "    <tr>\n",
       "      <th>3</th>\n",
       "      <td>9</td>\n",
       "      <td>80.62</td>\n",
       "      <td>az</td>\n",
       "      <td>t</td>\n",
       "      <td>n</td>\n",
       "      <td>f</td>\n",
       "      <td>d</td>\n",
       "      <td>x</td>\n",
       "      <td>l</td>\n",
       "      <td>e</td>\n",
       "      <td>...</td>\n",
       "      <td>0</td>\n",
       "      <td>0</td>\n",
       "      <td>0</td>\n",
       "      <td>0</td>\n",
       "      <td>0</td>\n",
       "      <td>0</td>\n",
       "      <td>0</td>\n",
       "      <td>0</td>\n",
       "      <td>0</td>\n",
       "      <td>0</td>\n",
       "    </tr>\n",
       "    <tr>\n",
       "      <th>4</th>\n",
       "      <td>13</td>\n",
       "      <td>78.02</td>\n",
       "      <td>az</td>\n",
       "      <td>v</td>\n",
       "      <td>n</td>\n",
       "      <td>f</td>\n",
       "      <td>d</td>\n",
       "      <td>h</td>\n",
       "      <td>d</td>\n",
       "      <td>n</td>\n",
       "      <td>...</td>\n",
       "      <td>0</td>\n",
       "      <td>0</td>\n",
       "      <td>0</td>\n",
       "      <td>0</td>\n",
       "      <td>0</td>\n",
       "      <td>0</td>\n",
       "      <td>0</td>\n",
       "      <td>0</td>\n",
       "      <td>0</td>\n",
       "      <td>0</td>\n",
       "    </tr>\n",
       "  </tbody>\n",
       "</table>\n",
       "<p>5 rows × 378 columns</p>\n",
       "</div>"
      ],
      "text/plain": [
       "   ID       y  X0 X1  X2 X3 X4 X5 X6 X8  ...  X375  X376  X377  X378  X379  \\\n",
       "0   0  130.81   k  v  at  a  d  u  j  o  ...     0     0     1     0     0   \n",
       "1   6   88.53   k  t  av  e  d  y  l  o  ...     1     0     0     0     0   \n",
       "2   7   76.26  az  w   n  c  d  x  j  x  ...     0     0     0     0     0   \n",
       "3   9   80.62  az  t   n  f  d  x  l  e  ...     0     0     0     0     0   \n",
       "4  13   78.02  az  v   n  f  d  h  d  n  ...     0     0     0     0     0   \n",
       "\n",
       "   X380  X382  X383  X384  X385  \n",
       "0     0     0     0     0     0  \n",
       "1     0     0     0     0     0  \n",
       "2     0     1     0     0     0  \n",
       "3     0     0     0     0     0  \n",
       "4     0     0     0     0     0  \n",
       "\n",
       "[5 rows x 378 columns]"
      ]
     },
     "execution_count": 4,
     "metadata": {},
     "output_type": "execute_result"
    }
   ],
   "source": [
    "df_train = pd.read_csv('https://raw.githubusercontent.com/nadiinchi/hse_cs_ml_course_2017_FTAD/master/materials/train.csv')\n",
    "print('Size of training set: {} rows and {} columns'.format(*df_train.shape))\n",
    "df_train.head()"
   ]
  },
  {
   "cell_type": "markdown",
   "metadata": {},
   "source": [
    "Распределение целевого признака:"
   ]
  },
  {
   "cell_type": "code",
   "execution_count": 5,
   "metadata": {
    "_cell_guid": "8aa66a00-591c-7cff-cc88-051bfcaa40c5"
   },
   "outputs": [
    {
     "name": "stdout",
     "output_type": "stream",
     "text": [
      "min: 72.11 max: 265.32 mean: 100.66931812782134 std: 12.6778749695168\n",
      "Count of values above 180: 1\n"
     ]
    },
    {
     "data": {
      "image/png": "[encoded data removed]",
      "text/plain": [
       "<Figure size 1080x360 with 1 Axes>"
      ]
     },
     "metadata": {
      "needs_background": "light"
     },
     "output_type": "display_data"
    }
   ],
   "source": [
    "y_train = df_train['y'].values\n",
    "plt.figure(figsize=(15, 5))\n",
    "plt.hist(y_train, bins=20)\n",
    "plt.xlabel('Target value in seconds')\n",
    "plt.ylabel('Occurences')\n",
    "plt.title('Distribution of the target value')\n",
    "\n",
    "print('min: {} max: {} mean: {} std: {}'.format(min(y_train), max(y_train), y_train.mean(), y_train.std()))\n",
    "print('Count of values above 180: {}'.format(np.sum(y_train > 200)))"
   ]
  },
  {
   "cell_type": "markdown",
   "metadata": {},
   "source": [
    "Число признаков и объектов:"
   ]
  },
  {
   "cell_type": "code",
   "execution_count": 6,
   "metadata": {
    "_cell_guid": "85c914e4-162a-e3be-ec91-1e687b8222e2"
   },
   "outputs": [
    {
     "name": "stdout",
     "output_type": "stream",
     "text": [
      "Number of features: 376\n",
      "Feature types:\n"
     ]
    },
    {
     "data": {
      "text/plain": [
       "int64     368\n",
       "object      8\n",
       "dtype: int64"
      ]
     },
     "execution_count": 6,
     "metadata": {},
     "output_type": "execute_result"
    }
   ],
   "source": [
    "cols = [c for c in df_train.columns if 'X' in c]\n",
    "print('Number of features: {}'.format(len(cols)))\n",
    "\n",
    "print('Feature types:')\n",
    "df_train[cols].dtypes.value_counts()"
   ]
  },
  {
   "cell_type": "markdown",
   "metadata": {},
   "source": [
    "Приведение данных к вещественному виду:"
   ]
  },
  {
   "cell_type": "code",
   "execution_count": 7,
   "metadata": {},
   "outputs": [
    {
     "name": "stderr",
     "output_type": "stream",
     "text": [
      "<ipython-input-7-86fbcd4c84a1>:10: SettingWithCopyWarning: \n",
      "A value is trying to be set on a copy of a slice from a DataFrame.\n",
      "Try using .loc[row_indexer,col_indexer] = value instead\n",
      "\n",
      "See the caveats in the documentation: https://pandas.pydata.org/pandas-docs/stable/user_guide/indexing.html#returning-a-view-versus-a-copy\n",
      "  x_train[column] = x_train[column].apply(mapper)\n"
     ]
    },
    {
     "data": {
      "text/html": [
       "<div>\n",
       "<style scoped>\n",
       "    .dataframe tbody tr th:only-of-type {\n",
       "        vertical-align: middle;\n",
       "    }\n",
       "\n",
       "    .dataframe tbody tr th {\n",
       "        vertical-align: top;\n",
       "    }\n",
       "\n",
       "    .dataframe thead th {\n",
       "        text-align: right;\n",
       "    }\n",
       "</style>\n",
       "<table border=\"1\" class=\"dataframe\">\n",
       "  <thead>\n",
       "    <tr style=\"text-align: right;\">\n",
       "      <th></th>\n",
       "      <th>X147</th>\n",
       "      <th>X368</th>\n",
       "      <th>X132</th>\n",
       "      <th>X279</th>\n",
       "      <th>X328</th>\n",
       "      <th>X55</th>\n",
       "      <th>X256</th>\n",
       "      <th>X35</th>\n",
       "      <th>X358</th>\n",
       "      <th>X205</th>\n",
       "      <th>...</th>\n",
       "      <th>X198</th>\n",
       "      <th>X21</th>\n",
       "      <th>X105</th>\n",
       "      <th>X33</th>\n",
       "      <th>X86</th>\n",
       "      <th>X326</th>\n",
       "      <th>X29</th>\n",
       "      <th>X174</th>\n",
       "      <th>X130</th>\n",
       "      <th>X14</th>\n",
       "    </tr>\n",
       "  </thead>\n",
       "  <tbody>\n",
       "    <tr>\n",
       "      <th>0</th>\n",
       "      <td>0</td>\n",
       "      <td>0</td>\n",
       "      <td>0</td>\n",
       "      <td>0</td>\n",
       "      <td>0</td>\n",
       "      <td>0</td>\n",
       "      <td>0</td>\n",
       "      <td>1</td>\n",
       "      <td>0</td>\n",
       "      <td>0</td>\n",
       "      <td>...</td>\n",
       "      <td>0</td>\n",
       "      <td>1</td>\n",
       "      <td>0</td>\n",
       "      <td>0</td>\n",
       "      <td>0</td>\n",
       "      <td>0</td>\n",
       "      <td>0</td>\n",
       "      <td>0</td>\n",
       "      <td>0</td>\n",
       "      <td>0</td>\n",
       "    </tr>\n",
       "    <tr>\n",
       "      <th>1</th>\n",
       "      <td>0</td>\n",
       "      <td>0</td>\n",
       "      <td>1</td>\n",
       "      <td>0</td>\n",
       "      <td>0</td>\n",
       "      <td>0</td>\n",
       "      <td>0</td>\n",
       "      <td>1</td>\n",
       "      <td>0</td>\n",
       "      <td>1</td>\n",
       "      <td>...</td>\n",
       "      <td>0</td>\n",
       "      <td>0</td>\n",
       "      <td>0</td>\n",
       "      <td>0</td>\n",
       "      <td>0</td>\n",
       "      <td>0</td>\n",
       "      <td>0</td>\n",
       "      <td>0</td>\n",
       "      <td>0</td>\n",
       "      <td>0</td>\n",
       "    </tr>\n",
       "    <tr>\n",
       "      <th>2</th>\n",
       "      <td>0</td>\n",
       "      <td>0</td>\n",
       "      <td>1</td>\n",
       "      <td>1</td>\n",
       "      <td>1</td>\n",
       "      <td>0</td>\n",
       "      <td>1</td>\n",
       "      <td>1</td>\n",
       "      <td>1</td>\n",
       "      <td>1</td>\n",
       "      <td>...</td>\n",
       "      <td>0</td>\n",
       "      <td>0</td>\n",
       "      <td>0</td>\n",
       "      <td>0</td>\n",
       "      <td>0</td>\n",
       "      <td>0</td>\n",
       "      <td>1</td>\n",
       "      <td>0</td>\n",
       "      <td>0</td>\n",
       "      <td>0</td>\n",
       "    </tr>\n",
       "    <tr>\n",
       "      <th>3</th>\n",
       "      <td>0</td>\n",
       "      <td>0</td>\n",
       "      <td>1</td>\n",
       "      <td>1</td>\n",
       "      <td>1</td>\n",
       "      <td>0</td>\n",
       "      <td>1</td>\n",
       "      <td>1</td>\n",
       "      <td>1</td>\n",
       "      <td>1</td>\n",
       "      <td>...</td>\n",
       "      <td>0</td>\n",
       "      <td>0</td>\n",
       "      <td>0</td>\n",
       "      <td>0</td>\n",
       "      <td>0</td>\n",
       "      <td>0</td>\n",
       "      <td>1</td>\n",
       "      <td>1</td>\n",
       "      <td>0</td>\n",
       "      <td>0</td>\n",
       "    </tr>\n",
       "    <tr>\n",
       "      <th>4</th>\n",
       "      <td>0</td>\n",
       "      <td>0</td>\n",
       "      <td>1</td>\n",
       "      <td>1</td>\n",
       "      <td>1</td>\n",
       "      <td>0</td>\n",
       "      <td>1</td>\n",
       "      <td>1</td>\n",
       "      <td>1</td>\n",
       "      <td>1</td>\n",
       "      <td>...</td>\n",
       "      <td>0</td>\n",
       "      <td>0</td>\n",
       "      <td>0</td>\n",
       "      <td>0</td>\n",
       "      <td>0</td>\n",
       "      <td>0</td>\n",
       "      <td>1</td>\n",
       "      <td>0</td>\n",
       "      <td>0</td>\n",
       "      <td>0</td>\n",
       "    </tr>\n",
       "  </tbody>\n",
       "</table>\n",
       "<p>5 rows × 376 columns</p>\n",
       "</div>"
      ],
      "text/plain": [
       "   X147  X368  X132  X279  X328  X55  X256  X35  X358  X205  ...  X198  X21  \\\n",
       "0     0     0     0     0     0    0     0    1     0     0  ...     0    1   \n",
       "1     0     0     1     0     0    0     0    1     0     1  ...     0    0   \n",
       "2     0     0     1     1     1    0     1    1     1     1  ...     0    0   \n",
       "3     0     0     1     1     1    0     1    1     1     1  ...     0    0   \n",
       "4     0     0     1     1     1    0     1    1     1     1  ...     0    0   \n",
       "\n",
       "   X105  X33  X86  X326  X29  X174  X130  X14  \n",
       "0     0    0    0     0    0     0     0    0  \n",
       "1     0    0    0     0    0     0     0    0  \n",
       "2     0    0    0     0    1     0     0    0  \n",
       "3     0    0    0     0    1     1     0    0  \n",
       "4     0    0    0     0    1     0     0    0  \n",
       "\n",
       "[5 rows x 376 columns]"
      ]
     },
     "execution_count": 7,
     "metadata": {},
     "output_type": "execute_result"
    }
   ],
   "source": [
    "usable_columns = list(set(df_train.columns) - set(['ID', 'y']))\n",
    "y_train = df_train['y'].values\n",
    "x_train = df_train[usable_columns]\n",
    "for column in usable_columns:\n",
    "    cardinality = len(np.unique(x_train[column]))\n",
    "    if cardinality == 1:\n",
    "        x_train.drop(column, axis=1) # Column with only one value is useless so we drop it\n",
    "    if cardinality > 2: # Column is categorical\n",
    "        mapper = lambda x: sum([ord(digit) for digit in x])\n",
    "        x_train[column] = x_train[column].apply(mapper)\n",
    "        \n",
    "x_train.head()"
   ]
  },
  {
   "cell_type": "markdown",
   "metadata": {},
   "source": [
    "## Разделение данных\n",
    "Разделим данные на три части. Первую будем использовать для настройки случайного леса и градиентного бустинга, вторую - для настройки композиции, третью - для итогового контроля."
   ]
  },
  {
   "cell_type": "code",
   "execution_count": 12,
   "metadata": {},
   "outputs": [
    {
     "data": {
      "text/plain": [
       "((4209, 376), (4209,))"
      ]
     },
     "execution_count": 12,
     "metadata": {},
     "output_type": "execute_result"
    }
   ],
   "source": [
    "x_train.shape, y_train.shape"
   ]
  },
  {
   "cell_type": "code",
   "execution_count": 13,
   "metadata": {},
   "outputs": [],
   "source": [
    "from sklearn.utils import shuffle"
   ]
  },
  {
   "cell_type": "code",
   "execution_count": 14,
   "metadata": {},
   "outputs": [],
   "source": [
    "x_train, y_train = shuffle(x_train, y_train, random_state=1)"
   ]
  },
  {
   "cell_type": "code",
   "execution_count": 15,
   "metadata": {},
   "outputs": [
    {
     "data": {
      "text/plain": [
       "((2000, 376), (2000,))"
      ]
     },
     "execution_count": 15,
     "metadata": {},
     "output_type": "execute_result"
    }
   ],
   "source": [
    "x1, y1 = x_train[:2000], y_train[:2000]\n",
    "x1.shape, y1.shape"
   ]
  },
  {
   "cell_type": "code",
   "execution_count": 16,
   "metadata": {},
   "outputs": [
    {
     "data": {
      "text/plain": [
       "((1000, 376), (1000,))"
      ]
     },
     "execution_count": 16,
     "metadata": {},
     "output_type": "execute_result"
    }
   ],
   "source": [
    "x2, y2 = x_train[2000:3000], y_train[2000:3000]\n",
    "x2.shape, y2.shape"
   ]
  },
  {
   "cell_type": "code",
   "execution_count": 17,
   "metadata": {},
   "outputs": [
    {
     "data": {
      "text/plain": [
       "((1209, 376), (1209,))"
      ]
     },
     "execution_count": 17,
     "metadata": {},
     "output_type": "execute_result"
    }
   ],
   "source": [
    "x3, y3 = x_train[3000:], y_train[3000:]\n",
    "x3.shape, y3.shape"
   ]
  },
  {
   "cell_type": "markdown",
   "metadata": {},
   "source": [
    "## Настройка моделей\n",
    "\n",
    "На занятиях мы обсуждали, что поскольку случайный лес и градиентный бустинг разрабатывались исходя из разных принципов, то и базовые алгоритмы - решающие деревья - им нужны разные. Отсюда вытекает, что какие-то гиперапараметры более важны, а какие-то - менее важны для каждого из этих алгоритмов. Для каждого из алгоритмов мы будем сначала подбирать наиболее важные для него гиперапраметры, а затем - втоостепенные.\n",
    "\n",
    "Для случайного леса самый важный гиперпараметр - max_features (сколько случайно выбранных признаков перебирать при построении вершины), потому что он влияет на то, насколько различными будут деревья (а это основная идея случайного леса). В частности, если вы меняете признаковое пространство (а значит, и число признаков), то этот гиперпараметр надо подбирать заново. После настройки max_features подбираются остальные гиперпараметры.\n",
    "\n",
    "Для градиентного бустинга самые важные гиперпараметры - число деревьев и глубина дерева. Глубина дерева задает, насколько слабыми или сильными будут отдельные деревья, а значит и то, насколько мы будем двигаться в сторону градиента. После этих гиперпараметров подбирают другие гиперпараметры. "
   ]
  },
  {
   "cell_type": "code",
   "execution_count": 8,
   "metadata": {},
   "outputs": [],
   "source": [
    "from sklearn.ensemble import RandomForestRegressor, GradientBoostingRegressor\n",
    "from sklearn.metrics import r2_score, make_scorer\n",
    "from sklearn.model_selection import GridSearchCV"
   ]
  },
  {
   "cell_type": "markdown",
   "metadata": {},
   "source": [
    "В этой части вам надо найти оптимальные гиперпараметры для случайного леса и градиентного бустинга, используя первую часть выборки (x1, y1).\n",
    "\n",
    "__Задание 1.__\n",
    "Начнем со случайного леса. \n",
    "1. (уже сделано ниже) Постройте график зависимости качества от числа деревьев в случайном лесе на кросс-валидации с 3 блоками. Выберите число деревьев для использования в дальнейшей настройке и при итоговом обучении модели.\n",
    "1. __(1.25 балла)__ Постройте график зависимости качества от max_features на кросс-валидации. Прокомментируйте график: ожидаете ли вы такое поведение, или результат нестандартный? Выберите оптимальное значение гиперпараметра.\n",
    "1. __(1.25 балла)__ С помощью кросс-валидации выберите оптимальные значения для max_depth, min_samples_leaf, min_samples_split. В этом пункте не нужно строить график, только выбрать лучшее значение. Обратите внимание, что в этом пункте нужно использовать max_features, выбранное на предыдущем шаге.\n",
    "1. __(0.5 балла)__ Обучите случайный лес с выбранными гиперпараметрами на всей выборке x1, y1.\n",
    "\n",
    "Указания: verbose=3 в GridSearchCV будет выводить значения качества на каждой обучаемой модели. Рекомендуется в экспериментах зафиксировать random_state у модели. Если вы перезапускаете ядро, старайтесь не перезапускать все ячейки перебора гиперпараметров (они могут долго считаться, кроме того, могут измениться оптимальные гиперпараметры, если вы не везде зафиксировали random state), перезапускайте только те ячейки, результаты которых используются дальше. В данном блоке это только ячейка, отвечающая за последний пункт (итоговое обучение случайного леса).\n",
    "\n",
    "Если вдруг получилось, что вы перезапустили ячейки с grid search, и у вас изменились оптимальные гиперпараметры, при этом ранее полученные гиперпараметры уже использованы ниже в ноутбуке, напишите об этом пояснение и не переделывайте другие задания."
   ]
  },
  {
   "cell_type": "code",
   "execution_count": 35,
   "metadata": {},
   "outputs": [],
   "source": [
    "param_grid = {\"n_estimators\":2**np.arange(10)} #  логарифмическая шкала\n",
    "gs = GridSearchCV(RandomForestRegressor(random_state=1, warm_start=True), param_grid, scoring='r2', verbose=3)"
   ]
  },
  {
   "cell_type": "code",
   "execution_count": 36,
   "metadata": {
    "scrolled": true
   },
   "outputs": [
    {
     "name": "stdout",
     "output_type": "stream",
     "text": [
      "Fitting 5 folds for each of 10 candidates, totalling 50 fits\n",
      "[CV 1/5] END ....................n_estimators=1;, score=0.171 total time=   0.0s\n",
      "[CV 2/5] END ...................n_estimators=1;, score=-0.747 total time=   0.0s\n",
      "[CV 3/5] END ...................n_estimators=1;, score=-0.028 total time=   0.0s\n",
      "[CV 4/5] END ...................n_estimators=1;, score=-0.098 total time=   0.0s\n",
      "[CV 5/5] END ....................n_estimators=1;, score=0.043 total time=   0.0s\n",
      "[CV 1/5] END ....................n_estimators=2;, score=0.339 total time=   0.0s\n",
      "[CV 2/5] END ....................n_estimators=2;, score=0.087 total time=   0.0s\n",
      "[CV 3/5] END ....................n_estimators=2;, score=0.302 total time=   0.0s\n",
      "[CV 4/5] END ....................n_estimators=2;, score=0.044 total time=   0.0s\n",
      "[CV 5/5] END ....................n_estimators=2;, score=0.127 total time=   0.0s\n",
      "[CV 1/5] END ....................n_estimators=4;, score=0.372 total time=   0.1s\n",
      "[CV 2/5] END ....................n_estimators=4;, score=0.365 total time=   0.1s\n",
      "[CV 3/5] END ....................n_estimators=4;, score=0.339 total time=   0.1s\n",
      "[CV 4/5] END ....................n_estimators=4;, score=0.204 total time=   0.1s\n",
      "[CV 5/5] END ....................n_estimators=4;, score=0.317 total time=   0.1s\n",
      "[CV 1/5] END ....................n_estimators=8;, score=0.413 total time=   0.3s\n",
      "[CV 2/5] END ....................n_estimators=8;, score=0.449 total time=   0.2s\n",
      "[CV 3/5] END ....................n_estimators=8;, score=0.495 total time=   0.2s\n",
      "[CV 4/5] END ....................n_estimators=8;, score=0.269 total time=   0.2s\n",
      "[CV 5/5] END ....................n_estimators=8;, score=0.397 total time=   0.3s\n",
      "[CV 1/5] END ...................n_estimators=16;, score=0.436 total time=   0.6s\n",
      "[CV 2/5] END ...................n_estimators=16;, score=0.517 total time=   0.6s\n",
      "[CV 3/5] END ...................n_estimators=16;, score=0.556 total time=   0.5s\n",
      "[CV 4/5] END ...................n_estimators=16;, score=0.315 total time=   0.5s\n",
      "[CV 5/5] END ...................n_estimators=16;, score=0.416 total time=   0.5s\n",
      "[CV 1/5] END ...................n_estimators=32;, score=0.473 total time=   1.2s\n",
      "[CV 2/5] END ...................n_estimators=32;, score=0.522 total time=   1.1s\n",
      "[CV 3/5] END ...................n_estimators=32;, score=0.580 total time=   1.3s\n",
      "[CV 4/5] END ...................n_estimators=32;, score=0.327 total time=   1.1s\n",
      "[CV 5/5] END ...................n_estimators=32;, score=0.438 total time=   1.2s\n",
      "[CV 1/5] END ...................n_estimators=64;, score=0.496 total time=   2.5s\n",
      "[CV 2/5] END ...................n_estimators=64;, score=0.525 total time=   2.6s\n",
      "[CV 3/5] END ...................n_estimators=64;, score=0.592 total time=   2.4s\n",
      "[CV 4/5] END ...................n_estimators=64;, score=0.335 total time=   2.4s\n",
      "[CV 5/5] END ...................n_estimators=64;, score=0.450 total time=   2.3s\n",
      "[CV 1/5] END ..................n_estimators=128;, score=0.498 total time=   4.5s\n",
      "[CV 2/5] END ..................n_estimators=128;, score=0.542 total time=   4.8s\n",
      "[CV 3/5] END ..................n_estimators=128;, score=0.604 total time=   4.6s\n",
      "[CV 4/5] END ..................n_estimators=128;, score=0.336 total time=   4.9s\n",
      "[CV 5/5] END ..................n_estimators=128;, score=0.452 total time=   4.9s\n",
      "[CV 1/5] END ..................n_estimators=256;, score=0.502 total time=   9.2s\n",
      "[CV 2/5] END ..................n_estimators=256;, score=0.554 total time=   9.6s\n",
      "[CV 3/5] END ..................n_estimators=256;, score=0.602 total time=   9.5s\n",
      "[CV 4/5] END ..................n_estimators=256;, score=0.336 total time=   9.6s\n",
      "[CV 5/5] END ..................n_estimators=256;, score=0.448 total time=   9.6s\n",
      "[CV 1/5] END ..................n_estimators=512;, score=0.502 total time=  19.9s\n",
      "[CV 2/5] END ..................n_estimators=512;, score=0.551 total time=  18.2s\n",
      "[CV 3/5] END ..................n_estimators=512;, score=0.598 total time=  19.3s\n",
      "[CV 4/5] END ..................n_estimators=512;, score=0.336 total time=  17.9s\n",
      "[CV 5/5] END ..................n_estimators=512;, score=0.451 total time=  18.4s\n"
     ]
    },
    {
     "data": {
      "text/plain": [
       "GridSearchCV(estimator=RandomForestRegressor(random_state=1, warm_start=True),\n",
       "             param_grid={'n_estimators': array([  1,   2,   4,   8,  16,  32,  64, 128, 256, 512], dtype=int32)},\n",
       "             scoring='r2', verbose=3)"
      ]
     },
     "execution_count": 36,
     "metadata": {},
     "output_type": "execute_result"
    }
   ],
   "source": [
    "gs.fit(x1, y1)"
   ]
  },
  {
   "cell_type": "code",
   "execution_count": 37,
   "metadata": {
    "scrolled": true
   },
   "outputs": [
    {
     "data": {
      "text/plain": [
       "Text(0, 0.5, 'R2')"
      ]
     },
     "execution_count": 37,
     "metadata": {},
     "output_type": "execute_result"
    },
    {
     "data": {
      "image/png": "[encoded data removed]",
      "text/plain": [
       "<Figure size 432x288 with 1 Axes>"
      ]
     },
     "metadata": {
      "needs_background": "light"
     },
     "output_type": "display_data"
    }
   ],
   "source": [
    "plt.plot((param_grid[\"n_estimators\"]), gs.cv_results_['mean_test_score'])\n",
    "plt.xscale(\"log\")\n",
    "plt.xlabel(\"n_estimators\")\n",
    "plt.ylabel(\"R2\")"
   ]
  },
  {
   "cell_type": "markdown",
   "metadata": {},
   "source": [
    "Качество, как и ожидается, растет с увеличением числа базовых алгоритмов. Для валидации выберем 100 деревьев (быстро обучается и уже более-менее приналежит области стабильности качества), финальную модель будем обучать с 500 деревьями."
   ]
  },
  {
   "cell_type": "code",
   "execution_count": 38,
   "metadata": {},
   "outputs": [],
   "source": [
    "# базовая логарифмическая шкала для max_features\n",
    "param_grid = {\"max_features\":2**np.arange(1, 9)}"
   ]
  },
  {
   "cell_type": "code",
   "execution_count": 39,
   "metadata": {},
   "outputs": [],
   "source": [
    "gs1 = GridSearchCV(RandomForestRegressor(n_estimators=100, random_state=1, warm_start=True), param_grid, scoring='r2', verbose=3)"
   ]
  },
  {
   "cell_type": "code",
   "execution_count": 40,
   "metadata": {
    "scrolled": true
   },
   "outputs": [
    {
     "name": "stdout",
     "output_type": "stream",
     "text": [
      "Fitting 5 folds for each of 8 candidates, totalling 40 fits\n",
      "[CV 1/5] END ....................max_features=2;, score=0.418 total time=   0.6s\n",
      "[CV 2/5] END ....................max_features=2;, score=0.510 total time=   0.7s\n",
      "[CV 3/5] END ....................max_features=2;, score=0.570 total time=   0.8s\n",
      "[CV 4/5] END ....................max_features=2;, score=0.253 total time=   0.7s\n",
      "[CV 5/5] END ....................max_features=2;, score=0.382 total time=   0.6s\n",
      "[CV 1/5] END ....................max_features=4;, score=0.437 total time=   0.6s\n",
      "[CV 2/5] END ....................max_features=4;, score=0.525 total time=   0.6s\n",
      "[CV 3/5] END ....................max_features=4;, score=0.600 total time=   0.6s\n",
      "[CV 4/5] END ....................max_features=4;, score=0.283 total time=   0.6s\n",
      "[CV 5/5] END ....................max_features=4;, score=0.421 total time=   0.6s\n",
      "[CV 1/5] END ....................max_features=8;, score=0.447 total time=   0.7s\n",
      "[CV 2/5] END ....................max_features=8;, score=0.555 total time=   0.7s\n",
      "[CV 3/5] END ....................max_features=8;, score=0.617 total time=   0.7s\n",
      "[CV 4/5] END ....................max_features=8;, score=0.295 total time=   0.7s\n",
      "[CV 5/5] END ....................max_features=8;, score=0.435 total time=   0.7s\n",
      "[CV 1/5] END ...................max_features=16;, score=0.467 total time=   0.7s\n",
      "[CV 2/5] END ...................max_features=16;, score=0.571 total time=   0.6s\n",
      "[CV 3/5] END ...................max_features=16;, score=0.627 total time=   0.7s\n",
      "[CV 4/5] END ...................max_features=16;, score=0.313 total time=   0.7s\n",
      "[CV 5/5] END ...................max_features=16;, score=0.445 total time=   0.6s\n",
      "[CV 1/5] END ...................max_features=32;, score=0.474 total time=   0.8s\n",
      "[CV 2/5] END ...................max_features=32;, score=0.571 total time=   0.7s\n",
      "[CV 3/5] END ...................max_features=32;, score=0.624 total time=   0.9s\n",
      "[CV 4/5] END ...................max_features=32;, score=0.320 total time=   0.9s\n",
      "[CV 5/5] END ...................max_features=32;, score=0.459 total time=   0.8s\n",
      "[CV 1/5] END ...................max_features=64;, score=0.477 total time=   1.3s\n",
      "[CV 2/5] END ...................max_features=64;, score=0.551 total time=   1.1s\n",
      "[CV 3/5] END ...................max_features=64;, score=0.629 total time=   1.1s\n",
      "[CV 4/5] END ...................max_features=64;, score=0.337 total time=   1.2s\n",
      "[CV 5/5] END ...................max_features=64;, score=0.469 total time=   1.1s\n",
      "[CV 1/5] END ..................max_features=128;, score=0.497 total time=   1.7s\n",
      "[CV 2/5] END ..................max_features=128;, score=0.537 total time=   1.8s\n",
      "[CV 3/5] END ..................max_features=128;, score=0.611 total time=   1.7s\n",
      "[CV 4/5] END ..................max_features=128;, score=0.335 total time=   1.7s\n",
      "[CV 5/5] END ..................max_features=128;, score=0.468 total time=   1.9s\n",
      "[CV 1/5] END ..................max_features=256;, score=0.491 total time=   2.8s\n",
      "[CV 2/5] END ..................max_features=256;, score=0.557 total time=   2.8s\n",
      "[CV 3/5] END ..................max_features=256;, score=0.607 total time=   2.8s\n",
      "[CV 4/5] END ..................max_features=256;, score=0.329 total time=   2.8s\n",
      "[CV 5/5] END ..................max_features=256;, score=0.456 total time=   2.7s\n"
     ]
    },
    {
     "data": {
      "text/plain": [
       "GridSearchCV(estimator=RandomForestRegressor(random_state=1, warm_start=True),\n",
       "             param_grid={'max_features': array([  2,   4,   8,  16,  32,  64, 128, 256], dtype=int32)},\n",
       "             scoring='r2', verbose=3)"
      ]
     },
     "execution_count": 40,
     "metadata": {},
     "output_type": "execute_result"
    }
   ],
   "source": [
    "gs1.fit(x1, y1)"
   ]
  },
  {
   "cell_type": "code",
   "execution_count": 41,
   "metadata": {},
   "outputs": [
    {
     "data": {
      "text/plain": [
       "Text(0, 0.5, 'R2')"
      ]
     },
     "execution_count": 41,
     "metadata": {},
     "output_type": "execute_result"
    },
    {
     "data": {
      "image/png": "[encoded data removed]",
      "text/plain": [
       "<Figure size 432x288 with 1 Axes>"
      ]
     },
     "metadata": {
      "needs_background": "light"
     },
     "output_type": "display_data"
    }
   ],
   "source": [
    "plt.plot((param_grid[\"max_features\"]), gs1.cv_results_['mean_test_score'])\n",
    "plt.xscale(\"log\")\n",
    "plt.xlabel(\"max_features\")\n",
    "plt.ylabel(\"R2\")"
   ]
  },
  {
   "cell_type": "code",
   "execution_count": 43,
   "metadata": {},
   "outputs": [],
   "source": [
    "maxim = -1\n",
    "max_feat = None\n",
    "for i in zip(gs1.cv_results_['mean_test_score'], gs1.cv_results_['param_max_features']):\n",
    "    if i[0] > maxim:\n",
    "        maxim = i[0]\n",
    "        max_feat = i[1]"
   ]
  },
  {
   "cell_type": "markdown",
   "metadata": {},
   "source": [
    "#### Прокомментируйте график: ожидаете ли вы такое поведение, или результат нестандартный? Выберите оптимальное значение гиперпараметра: <br>\n",
    "\n",
    "Поведение стандартно, так как сначала увеличение параметра _max_features_ повышает качество модели, однако при достаточно большом пороге качество начинает снижаться, так как начинает происходить переобучение!<br>\n",
    "Оптимальное значение гиперпараметра _max_features_ - **64**. "
   ]
  },
  {
   "cell_type": "code",
   "execution_count": 48,
   "metadata": {},
   "outputs": [],
   "source": [
    "# базовая шкала для остальных гиперпараметров\n",
    "param_grid = {\"max_depth\":np.arange(1, 9, 2), \"min_samples_leaf\":[1, 3, 9, 27], \"min_samples_split\":[3, 9, 27, 81]}"
   ]
  },
  {
   "cell_type": "code",
   "execution_count": 49,
   "metadata": {},
   "outputs": [],
   "source": [
    "gs2 = GridSearchCV(RandomForestRegressor(n_estimators=100, max_features=max_feat, random_state=1, warm_start=True), param_grid, scoring='r2', verbose=3)"
   ]
  },
  {
   "cell_type": "code",
   "execution_count": 50,
   "metadata": {
    "scrolled": true
   },
   "outputs": [
    {
     "name": "stdout",
     "output_type": "stream",
     "text": [
      "Fitting 5 folds for each of 64 candidates, totalling 320 fits\n",
      "[CV 1/5] END max_depth=1, min_samples_leaf=1, min_samples_split=3;, score=0.296 total time=   0.2s\n",
      "[CV 2/5] END max_depth=1, min_samples_leaf=1, min_samples_split=3;, score=0.361 total time=   0.1s\n",
      "[CV 3/5] END max_depth=1, min_samples_leaf=1, min_samples_split=3;, score=0.368 total time=   0.2s\n",
      "[CV 4/5] END max_depth=1, min_samples_leaf=1, min_samples_split=3;, score=0.205 total time=   0.1s\n",
      "[CV 5/5] END max_depth=1, min_samples_leaf=1, min_samples_split=3;, score=0.300 total time=   0.2s\n",
      "[CV 1/5] END max_depth=1, min_samples_leaf=1, min_samples_split=9;, score=0.296 total time=   0.1s\n",
      "[CV 2/5] END max_depth=1, min_samples_leaf=1, min_samples_split=9;, score=0.361 total time=   0.1s\n",
      "[CV 3/5] END max_depth=1, min_samples_leaf=1, min_samples_split=9;, score=0.368 total time=   0.1s\n",
      "[CV 4/5] END max_depth=1, min_samples_leaf=1, min_samples_split=9;, score=0.205 total time=   0.1s\n",
      "[CV 5/5] END max_depth=1, min_samples_leaf=1, min_samples_split=9;, score=0.300 total time=   0.1s\n",
      "[CV 1/5] END max_depth=1, min_samples_leaf=1, min_samples_split=27;, score=0.296 total time=   0.1s\n",
      "[CV 2/5] END max_depth=1, min_samples_leaf=1, min_samples_split=27;, score=0.361 total time=   0.1s\n",
      "[CV 3/5] END max_depth=1, min_samples_leaf=1, min_samples_split=27;, score=0.368 total time=   0.2s\n",
      "[CV 4/5] END max_depth=1, min_samples_leaf=1, min_samples_split=27;, score=0.205 total time=   0.1s\n",
      "[CV 5/5] END max_depth=1, min_samples_leaf=1, min_samples_split=27;, score=0.300 total time=   0.1s\n",
      "[CV 1/5] END max_depth=1, min_samples_leaf=1, min_samples_split=81;, score=0.296 total time=   0.1s\n",
      "[CV 2/5] END max_depth=1, min_samples_leaf=1, min_samples_split=81;, score=0.361 total time=   0.2s\n",
      "[CV 3/5] END max_depth=1, min_samples_leaf=1, min_samples_split=81;, score=0.368 total time=   0.1s\n",
      "[CV 4/5] END max_depth=1, min_samples_leaf=1, min_samples_split=81;, score=0.205 total time=   0.1s\n",
      "[CV 5/5] END max_depth=1, min_samples_leaf=1, min_samples_split=81;, score=0.300 total time=   0.1s\n",
      "[CV 1/5] END max_depth=1, min_samples_leaf=3, min_samples_split=3;, score=0.296 total time=   0.1s\n",
      "[CV 2/5] END max_depth=1, min_samples_leaf=3, min_samples_split=3;, score=0.361 total time=   0.1s\n",
      "[CV 3/5] END max_depth=1, min_samples_leaf=3, min_samples_split=3;, score=0.368 total time=   0.1s\n",
      "[CV 4/5] END max_depth=1, min_samples_leaf=3, min_samples_split=3;, score=0.205 total time=   0.1s\n",
      "[CV 5/5] END max_depth=1, min_samples_leaf=3, min_samples_split=3;, score=0.300 total time=   0.1s\n",
      "[CV 1/5] END max_depth=1, min_samples_leaf=3, min_samples_split=9;, score=0.296 total time=   0.1s\n",
      "[CV 2/5] END max_depth=1, min_samples_leaf=3, min_samples_split=9;, score=0.361 total time=   0.1s\n",
      "[CV 3/5] END max_depth=1, min_samples_leaf=3, min_samples_split=9;, score=0.368 total time=   0.1s\n",
      "[CV 4/5] END max_depth=1, min_samples_leaf=3, min_samples_split=9;, score=0.205 total time=   0.1s\n",
      "[CV 5/5] END max_depth=1, min_samples_leaf=3, min_samples_split=9;, score=0.300 total time=   0.1s\n",
      "[CV 1/5] END max_depth=1, min_samples_leaf=3, min_samples_split=27;, score=0.296 total time=   0.1s\n",
      "[CV 2/5] END max_depth=1, min_samples_leaf=3, min_samples_split=27;, score=0.361 total time=   0.1s\n",
      "[CV 3/5] END max_depth=1, min_samples_leaf=3, min_samples_split=27;, score=0.368 total time=   0.1s\n",
      "[CV 4/5] END max_depth=1, min_samples_leaf=3, min_samples_split=27;, score=0.205 total time=   0.1s\n",
      "[CV 5/5] END max_depth=1, min_samples_leaf=3, min_samples_split=27;, score=0.300 total time=   0.1s\n",
      "[CV 1/5] END max_depth=1, min_samples_leaf=3, min_samples_split=81;, score=0.296 total time=   0.2s\n",
      "[CV 2/5] END max_depth=1, min_samples_leaf=3, min_samples_split=81;, score=0.361 total time=   0.1s\n",
      "[CV 3/5] END max_depth=1, min_samples_leaf=3, min_samples_split=81;, score=0.368 total time=   0.1s\n",
      "[CV 4/5] END max_depth=1, min_samples_leaf=3, min_samples_split=81;, score=0.205 total time=   0.1s\n",
      "[CV 5/5] END max_depth=1, min_samples_leaf=3, min_samples_split=81;, score=0.300 total time=   0.2s\n",
      "[CV 1/5] END max_depth=1, min_samples_leaf=9, min_samples_split=3;, score=0.296 total time=   0.1s\n",
      "[CV 2/5] END max_depth=1, min_samples_leaf=9, min_samples_split=3;, score=0.361 total time=   0.1s\n",
      "[CV 3/5] END max_depth=1, min_samples_leaf=9, min_samples_split=3;, score=0.368 total time=   0.1s\n",
      "[CV 4/5] END max_depth=1, min_samples_leaf=9, min_samples_split=3;, score=0.205 total time=   0.1s\n",
      "[CV 5/5] END max_depth=1, min_samples_leaf=9, min_samples_split=3;, score=0.300 total time=   0.1s\n",
      "[CV 1/5] END max_depth=1, min_samples_leaf=9, min_samples_split=9;, score=0.296 total time=   0.1s\n",
      "[CV 2/5] END max_depth=1, min_samples_leaf=9, min_samples_split=9;, score=0.361 total time=   0.1s\n",
      "[CV 3/5] END max_depth=1, min_samples_leaf=9, min_samples_split=9;, score=0.368 total time=   0.1s\n",
      "[CV 4/5] END max_depth=1, min_samples_leaf=9, min_samples_split=9;, score=0.205 total time=   0.1s\n",
      "[CV 5/5] END max_depth=1, min_samples_leaf=9, min_samples_split=9;, score=0.300 total time=   0.1s\n",
      "[CV 1/5] END max_depth=1, min_samples_leaf=9, min_samples_split=27;, score=0.296 total time=   0.1s\n",
      "[CV 2/5] END max_depth=1, min_samples_leaf=9, min_samples_split=27;, score=0.361 total time=   0.1s\n",
      "[CV 3/5] END max_depth=1, min_samples_leaf=9, min_samples_split=27;, score=0.368 total time=   0.1s\n",
      "[CV 4/5] END max_depth=1, min_samples_leaf=9, min_samples_split=27;, score=0.205 total time=   0.1s\n",
      "[CV 5/5] END max_depth=1, min_samples_leaf=9, min_samples_split=27;, score=0.300 total time=   0.1s\n",
      "[CV 1/5] END max_depth=1, min_samples_leaf=9, min_samples_split=81;, score=0.296 total time=   0.1s\n",
      "[CV 2/5] END max_depth=1, min_samples_leaf=9, min_samples_split=81;, score=0.361 total time=   0.1s\n",
      "[CV 3/5] END max_depth=1, min_samples_leaf=9, min_samples_split=81;, score=0.368 total time=   0.1s\n",
      "[CV 4/5] END max_depth=1, min_samples_leaf=9, min_samples_split=81;, score=0.205 total time=   0.1s\n",
      "[CV 5/5] END max_depth=1, min_samples_leaf=9, min_samples_split=81;, score=0.300 total time=   0.1s\n",
      "[CV 1/5] END max_depth=1, min_samples_leaf=27, min_samples_split=3;, score=0.296 total time=   0.1s\n",
      "[CV 2/5] END max_depth=1, min_samples_leaf=27, min_samples_split=3;, score=0.361 total time=   0.1s\n",
      "[CV 3/5] END max_depth=1, min_samples_leaf=27, min_samples_split=3;, score=0.368 total time=   0.1s\n",
      "[CV 4/5] END max_depth=1, min_samples_leaf=27, min_samples_split=3;, score=0.205 total time=   0.1s\n",
      "[CV 5/5] END max_depth=1, min_samples_leaf=27, min_samples_split=3;, score=0.300 total time=   0.1s\n",
      "[CV 1/5] END max_depth=1, min_samples_leaf=27, min_samples_split=9;, score=0.296 total time=   0.2s\n",
      "[CV 2/5] END max_depth=1, min_samples_leaf=27, min_samples_split=9;, score=0.361 total time=   0.1s\n",
      "[CV 3/5] END max_depth=1, min_samples_leaf=27, min_samples_split=9;, score=0.368 total time=   0.1s\n",
      "[CV 4/5] END max_depth=1, min_samples_leaf=27, min_samples_split=9;, score=0.205 total time=   0.1s\n",
      "[CV 5/5] END max_depth=1, min_samples_leaf=27, min_samples_split=9;, score=0.300 total time=   0.1s\n",
      "[CV 1/5] END max_depth=1, min_samples_leaf=27, min_samples_split=27;, score=0.296 total time=   0.1s\n",
      "[CV 2/5] END max_depth=1, min_samples_leaf=27, min_samples_split=27;, score=0.361 total time=   0.2s\n",
      "[CV 3/5] END max_depth=1, min_samples_leaf=27, min_samples_split=27;, score=0.368 total time=   0.1s\n",
      "[CV 4/5] END max_depth=1, min_samples_leaf=27, min_samples_split=27;, score=0.205 total time=   0.2s\n",
      "[CV 5/5] END max_depth=1, min_samples_leaf=27, min_samples_split=27;, score=0.300 total time=   0.1s\n",
      "[CV 1/5] END max_depth=1, min_samples_leaf=27, min_samples_split=81;, score=0.296 total time=   0.1s\n",
      "[CV 2/5] END max_depth=1, min_samples_leaf=27, min_samples_split=81;, score=0.361 total time=   0.2s\n",
      "[CV 3/5] END max_depth=1, min_samples_leaf=27, min_samples_split=81;, score=0.368 total time=   0.2s\n",
      "[CV 4/5] END max_depth=1, min_samples_leaf=27, min_samples_split=81;, score=0.205 total time=   0.1s\n",
      "[CV 5/5] END max_depth=1, min_samples_leaf=27, min_samples_split=81;, score=0.300 total time=   0.1s\n",
      "[CV 1/5] END max_depth=3, min_samples_leaf=1, min_samples_split=3;, score=0.490 total time=   0.3s\n",
      "[CV 2/5] END max_depth=3, min_samples_leaf=1, min_samples_split=3;, score=0.610 total time=   0.2s\n",
      "[CV 3/5] END max_depth=3, min_samples_leaf=1, min_samples_split=3;, score=0.646 total time=   0.2s\n",
      "[CV 4/5] END max_depth=3, min_samples_leaf=1, min_samples_split=3;, score=0.352 total time=   0.3s\n",
      "[CV 5/5] END max_depth=3, min_samples_leaf=1, min_samples_split=3;, score=0.501 total time=   0.2s\n",
      "[CV 1/5] END max_depth=3, min_samples_leaf=1, min_samples_split=9;, score=0.489 total time=   0.2s\n",
      "[CV 2/5] END max_depth=3, min_samples_leaf=1, min_samples_split=9;, score=0.609 total time=   0.2s\n",
      "[CV 3/5] END max_depth=3, min_samples_leaf=1, min_samples_split=9;, score=0.648 total time=   0.2s\n",
      "[CV 4/5] END max_depth=3, min_samples_leaf=1, min_samples_split=9;, score=0.351 total time=   0.2s\n",
      "[CV 5/5] END max_depth=3, min_samples_leaf=1, min_samples_split=9;, score=0.500 total time=   0.2s\n",
      "[CV 1/5] END max_depth=3, min_samples_leaf=1, min_samples_split=27;, score=0.487 total time=   0.2s\n",
      "[CV 2/5] END max_depth=3, min_samples_leaf=1, min_samples_split=27;, score=0.609 total time=   0.2s\n",
      "[CV 3/5] END max_depth=3, min_samples_leaf=1, min_samples_split=27;, score=0.645 total time=   0.2s\n",
      "[CV 4/5] END max_depth=3, min_samples_leaf=1, min_samples_split=27;, score=0.351 total time=   0.2s\n",
      "[CV 5/5] END max_depth=3, min_samples_leaf=1, min_samples_split=27;, score=0.500 total time=   0.3s\n",
      "[CV 1/5] END max_depth=3, min_samples_leaf=1, min_samples_split=81;, score=0.489 total time=   0.3s\n",
      "[CV 2/5] END max_depth=3, min_samples_leaf=1, min_samples_split=81;, score=0.609 total time=   0.3s\n",
      "[CV 3/5] END max_depth=3, min_samples_leaf=1, min_samples_split=81;, score=0.643 total time=   0.3s\n",
      "[CV 4/5] END max_depth=3, min_samples_leaf=1, min_samples_split=81;, score=0.348 total time=   0.3s\n",
      "[CV 5/5] END max_depth=3, min_samples_leaf=1, min_samples_split=81;, score=0.500 total time=   0.3s\n",
      "[CV 1/5] END max_depth=3, min_samples_leaf=3, min_samples_split=3;, score=0.488 total time=   0.3s\n",
      "[CV 2/5] END max_depth=3, min_samples_leaf=3, min_samples_split=3;, score=0.609 total time=   0.3s\n",
      "[CV 3/5] END max_depth=3, min_samples_leaf=3, min_samples_split=3;, score=0.645 total time=   0.2s\n",
      "[CV 4/5] END max_depth=3, min_samples_leaf=3, min_samples_split=3;, score=0.351 total time=   0.2s\n",
      "[CV 5/5] END max_depth=3, min_samples_leaf=3, min_samples_split=3;, score=0.501 total time=   0.2s\n",
      "[CV 1/5] END max_depth=3, min_samples_leaf=3, min_samples_split=9;, score=0.488 total time=   0.3s\n",
      "[CV 2/5] END max_depth=3, min_samples_leaf=3, min_samples_split=9;, score=0.609 total time=   0.2s\n",
      "[CV 3/5] END max_depth=3, min_samples_leaf=3, min_samples_split=9;, score=0.647 total time=   0.2s\n",
      "[CV 4/5] END max_depth=3, min_samples_leaf=3, min_samples_split=9;, score=0.352 total time=   0.2s\n",
      "[CV 5/5] END max_depth=3, min_samples_leaf=3, min_samples_split=9;, score=0.501 total time=   0.2s\n",
      "[CV 1/5] END max_depth=3, min_samples_leaf=3, min_samples_split=27;, score=0.488 total time=   0.2s\n",
      "[CV 2/5] END max_depth=3, min_samples_leaf=3, min_samples_split=27;, score=0.609 total time=   0.2s\n",
      "[CV 3/5] END max_depth=3, min_samples_leaf=3, min_samples_split=27;, score=0.644 total time=   0.3s\n",
      "[CV 4/5] END max_depth=3, min_samples_leaf=3, min_samples_split=27;, score=0.351 total time=   0.2s\n",
      "[CV 5/5] END max_depth=3, min_samples_leaf=3, min_samples_split=27;, score=0.501 total time=   0.2s\n",
      "[CV 1/5] END max_depth=3, min_samples_leaf=3, min_samples_split=81;, score=0.489 total time=   0.2s\n",
      "[CV 2/5] END max_depth=3, min_samples_leaf=3, min_samples_split=81;, score=0.608 total time=   0.2s\n",
      "[CV 3/5] END max_depth=3, min_samples_leaf=3, min_samples_split=81;, score=0.644 total time=   0.2s\n",
      "[CV 4/5] END max_depth=3, min_samples_leaf=3, min_samples_split=81;, score=0.348 total time=   0.2s\n",
      "[CV 5/5] END max_depth=3, min_samples_leaf=3, min_samples_split=81;, score=0.500 total time=   0.2s\n",
      "[CV 1/5] END max_depth=3, min_samples_leaf=9, min_samples_split=3;, score=0.490 total time=   0.2s\n",
      "[CV 2/5] END max_depth=3, min_samples_leaf=9, min_samples_split=3;, score=0.608 total time=   0.3s\n",
      "[CV 3/5] END max_depth=3, min_samples_leaf=9, min_samples_split=3;, score=0.646 total time=   0.3s\n",
      "[CV 4/5] END max_depth=3, min_samples_leaf=9, min_samples_split=3;, score=0.352 total time=   0.2s\n",
      "[CV 5/5] END max_depth=3, min_samples_leaf=9, min_samples_split=3;, score=0.500 total time=   0.2s\n",
      "[CV 1/5] END max_depth=3, min_samples_leaf=9, min_samples_split=9;, score=0.490 total time=   0.3s\n",
      "[CV 2/5] END max_depth=3, min_samples_leaf=9, min_samples_split=9;, score=0.608 total time=   0.2s\n",
      "[CV 3/5] END max_depth=3, min_samples_leaf=9, min_samples_split=9;, score=0.646 total time=   0.2s\n",
      "[CV 4/5] END max_depth=3, min_samples_leaf=9, min_samples_split=9;, score=0.352 total time=   0.2s\n",
      "[CV 5/5] END max_depth=3, min_samples_leaf=9, min_samples_split=9;, score=0.500 total time=   0.2s\n",
      "[CV 1/5] END max_depth=3, min_samples_leaf=9, min_samples_split=27;, score=0.489 total time=   0.2s\n",
      "[CV 2/5] END max_depth=3, min_samples_leaf=9, min_samples_split=27;, score=0.608 total time=   0.2s\n",
      "[CV 3/5] END max_depth=3, min_samples_leaf=9, min_samples_split=27;, score=0.645 total time=   0.2s\n",
      "[CV 4/5] END max_depth=3, min_samples_leaf=9, min_samples_split=27;, score=0.351 total time=   0.2s\n",
      "[CV 5/5] END max_depth=3, min_samples_leaf=9, min_samples_split=27;, score=0.502 total time=   0.2s\n",
      "[CV 1/5] END max_depth=3, min_samples_leaf=9, min_samples_split=81;, score=0.488 total time=   0.2s\n",
      "[CV 2/5] END max_depth=3, min_samples_leaf=9, min_samples_split=81;, score=0.607 total time=   0.2s\n",
      "[CV 3/5] END max_depth=3, min_samples_leaf=9, min_samples_split=81;, score=0.642 total time=   0.2s\n",
      "[CV 4/5] END max_depth=3, min_samples_leaf=9, min_samples_split=81;, score=0.348 total time=   0.2s\n",
      "[CV 5/5] END max_depth=3, min_samples_leaf=9, min_samples_split=81;, score=0.499 total time=   0.2s\n",
      "[CV 1/5] END max_depth=3, min_samples_leaf=27, min_samples_split=3;, score=0.489 total time=   0.2s\n",
      "[CV 2/5] END max_depth=3, min_samples_leaf=27, min_samples_split=3;, score=0.605 total time=   0.2s\n",
      "[CV 3/5] END max_depth=3, min_samples_leaf=27, min_samples_split=3;, score=0.639 total time=   0.2s\n",
      "[CV 4/5] END max_depth=3, min_samples_leaf=27, min_samples_split=3;, score=0.343 total time=   0.2s\n",
      "[CV 5/5] END max_depth=3, min_samples_leaf=27, min_samples_split=3;, score=0.497 total time=   0.2s\n",
      "[CV 1/5] END max_depth=3, min_samples_leaf=27, min_samples_split=9;, score=0.489 total time=   0.2s\n",
      "[CV 2/5] END max_depth=3, min_samples_leaf=27, min_samples_split=9;, score=0.605 total time=   0.2s\n",
      "[CV 3/5] END max_depth=3, min_samples_leaf=27, min_samples_split=9;, score=0.639 total time=   0.2s\n",
      "[CV 4/5] END max_depth=3, min_samples_leaf=27, min_samples_split=9;, score=0.343 total time=   0.3s\n",
      "[CV 5/5] END max_depth=3, min_samples_leaf=27, min_samples_split=9;, score=0.497 total time=   0.2s\n",
      "[CV 1/5] END max_depth=3, min_samples_leaf=27, min_samples_split=27;, score=0.489 total time=   0.3s\n",
      "[CV 2/5] END max_depth=3, min_samples_leaf=27, min_samples_split=27;, score=0.605 total time=   0.2s\n",
      "[CV 3/5] END max_depth=3, min_samples_leaf=27, min_samples_split=27;, score=0.639 total time=   0.2s\n",
      "[CV 4/5] END max_depth=3, min_samples_leaf=27, min_samples_split=27;, score=0.343 total time=   0.2s\n",
      "[CV 5/5] END max_depth=3, min_samples_leaf=27, min_samples_split=27;, score=0.497 total time=   0.2s\n",
      "[CV 1/5] END max_depth=3, min_samples_leaf=27, min_samples_split=81;, score=0.489 total time=   0.2s\n",
      "[CV 2/5] END max_depth=3, min_samples_leaf=27, min_samples_split=81;, score=0.605 total time=   0.2s\n",
      "[CV 3/5] END max_depth=3, min_samples_leaf=27, min_samples_split=81;, score=0.639 total time=   0.3s\n",
      "[CV 4/5] END max_depth=3, min_samples_leaf=27, min_samples_split=81;, score=0.343 total time=   0.2s\n",
      "[CV 5/5] END max_depth=3, min_samples_leaf=27, min_samples_split=81;, score=0.497 total time=   0.2s\n",
      "[CV 1/5] END max_depth=5, min_samples_leaf=1, min_samples_split=3;, score=0.522 total time=   0.3s\n",
      "[CV 2/5] END max_depth=5, min_samples_leaf=1, min_samples_split=3;, score=0.638 total time=   0.4s\n",
      "[CV 3/5] END max_depth=5, min_samples_leaf=1, min_samples_split=3;, score=0.694 total time=   0.3s\n",
      "[CV 4/5] END max_depth=5, min_samples_leaf=1, min_samples_split=3;, score=0.371 total time=   0.4s\n",
      "[CV 5/5] END max_depth=5, min_samples_leaf=1, min_samples_split=3;, score=0.524 total time=   0.3s\n",
      "[CV 1/5] END max_depth=5, min_samples_leaf=1, min_samples_split=9;, score=0.525 total time=   0.3s\n",
      "[CV 2/5] END max_depth=5, min_samples_leaf=1, min_samples_split=9;, score=0.637 total time=   0.4s\n",
      "[CV 3/5] END max_depth=5, min_samples_leaf=1, min_samples_split=9;, score=0.692 total time=   0.3s\n",
      "[CV 4/5] END max_depth=5, min_samples_leaf=1, min_samples_split=9;, score=0.370 total time=   0.3s\n",
      "[CV 5/5] END max_depth=5, min_samples_leaf=1, min_samples_split=9;, score=0.527 total time=   0.4s\n",
      "[CV 1/5] END max_depth=5, min_samples_leaf=1, min_samples_split=27;, score=0.523 total time=   0.4s\n",
      "[CV 2/5] END max_depth=5, min_samples_leaf=1, min_samples_split=27;, score=0.639 total time=   0.3s\n",
      "[CV 3/5] END max_depth=5, min_samples_leaf=1, min_samples_split=27;, score=0.691 total time=   0.3s\n",
      "[CV 4/5] END max_depth=5, min_samples_leaf=1, min_samples_split=27;, score=0.370 total time=   0.3s\n",
      "[CV 5/5] END max_depth=5, min_samples_leaf=1, min_samples_split=27;, score=0.527 total time=   0.3s\n",
      "[CV 1/5] END max_depth=5, min_samples_leaf=1, min_samples_split=81;, score=0.521 total time=   0.3s\n",
      "[CV 2/5] END max_depth=5, min_samples_leaf=1, min_samples_split=81;, score=0.636 total time=   0.3s\n",
      "[CV 3/5] END max_depth=5, min_samples_leaf=1, min_samples_split=81;, score=0.691 total time=   0.3s\n",
      "[CV 4/5] END max_depth=5, min_samples_leaf=1, min_samples_split=81;, score=0.369 total time=   0.3s\n",
      "[CV 5/5] END max_depth=5, min_samples_leaf=1, min_samples_split=81;, score=0.529 total time=   0.3s\n",
      "[CV 1/5] END max_depth=5, min_samples_leaf=3, min_samples_split=3;, score=0.522 total time=   0.3s\n",
      "[CV 2/5] END max_depth=5, min_samples_leaf=3, min_samples_split=3;, score=0.633 total time=   0.3s\n",
      "[CV 3/5] END max_depth=5, min_samples_leaf=3, min_samples_split=3;, score=0.695 total time=   0.3s\n",
      "[CV 4/5] END max_depth=5, min_samples_leaf=3, min_samples_split=3;, score=0.368 total time=   0.3s\n",
      "[CV 5/5] END max_depth=5, min_samples_leaf=3, min_samples_split=3;, score=0.527 total time=   0.4s\n",
      "[CV 1/5] END max_depth=5, min_samples_leaf=3, min_samples_split=9;, score=0.523 total time=   0.4s\n",
      "[CV 2/5] END max_depth=5, min_samples_leaf=3, min_samples_split=9;, score=0.637 total time=   0.3s\n",
      "[CV 3/5] END max_depth=5, min_samples_leaf=3, min_samples_split=9;, score=0.695 total time=   0.4s\n",
      "[CV 4/5] END max_depth=5, min_samples_leaf=3, min_samples_split=9;, score=0.368 total time=   0.4s\n",
      "[CV 5/5] END max_depth=5, min_samples_leaf=3, min_samples_split=9;, score=0.527 total time=   0.4s\n",
      "[CV 1/5] END max_depth=5, min_samples_leaf=3, min_samples_split=27;, score=0.522 total time=   0.3s\n",
      "[CV 2/5] END max_depth=5, min_samples_leaf=3, min_samples_split=27;, score=0.635 total time=   0.3s\n",
      "[CV 3/5] END max_depth=5, min_samples_leaf=3, min_samples_split=27;, score=0.692 total time=   0.4s\n",
      "[CV 4/5] END max_depth=5, min_samples_leaf=3, min_samples_split=27;, score=0.371 total time=   0.3s\n",
      "[CV 5/5] END max_depth=5, min_samples_leaf=3, min_samples_split=27;, score=0.526 total time=   0.3s\n",
      "[CV 1/5] END max_depth=5, min_samples_leaf=3, min_samples_split=81;, score=0.519 total time=   0.3s\n",
      "[CV 2/5] END max_depth=5, min_samples_leaf=3, min_samples_split=81;, score=0.635 total time=   0.3s\n",
      "[CV 3/5] END max_depth=5, min_samples_leaf=3, min_samples_split=81;, score=0.693 total time=   0.3s\n",
      "[CV 4/5] END max_depth=5, min_samples_leaf=3, min_samples_split=81;, score=0.369 total time=   0.3s\n",
      "[CV 5/5] END max_depth=5, min_samples_leaf=3, min_samples_split=81;, score=0.528 total time=   0.3s\n",
      "[CV 1/5] END max_depth=5, min_samples_leaf=9, min_samples_split=3;, score=0.523 total time=   0.4s\n",
      "[CV 2/5] END max_depth=5, min_samples_leaf=9, min_samples_split=3;, score=0.637 total time=   0.3s\n",
      "[CV 3/5] END max_depth=5, min_samples_leaf=9, min_samples_split=3;, score=0.693 total time=   0.3s\n",
      "[CV 4/5] END max_depth=5, min_samples_leaf=9, min_samples_split=3;, score=0.367 total time=   0.3s\n",
      "[CV 5/5] END max_depth=5, min_samples_leaf=9, min_samples_split=3;, score=0.527 total time=   0.4s\n",
      "[CV 1/5] END max_depth=5, min_samples_leaf=9, min_samples_split=9;, score=0.523 total time=   0.4s\n",
      "[CV 2/5] END max_depth=5, min_samples_leaf=9, min_samples_split=9;, score=0.637 total time=   0.4s\n",
      "[CV 3/5] END max_depth=5, min_samples_leaf=9, min_samples_split=9;, score=0.693 total time=   0.4s\n",
      "[CV 4/5] END max_depth=5, min_samples_leaf=9, min_samples_split=9;, score=0.367 total time=   0.4s\n",
      "[CV 5/5] END max_depth=5, min_samples_leaf=9, min_samples_split=9;, score=0.527 total time=   0.3s\n",
      "[CV 1/5] END max_depth=5, min_samples_leaf=9, min_samples_split=27;, score=0.522 total time=   0.3s\n",
      "[CV 2/5] END max_depth=5, min_samples_leaf=9, min_samples_split=27;, score=0.636 total time=   0.3s\n",
      "[CV 3/5] END max_depth=5, min_samples_leaf=9, min_samples_split=27;, score=0.692 total time=   0.4s\n",
      "[CV 4/5] END max_depth=5, min_samples_leaf=9, min_samples_split=27;, score=0.367 total time=   0.3s\n",
      "[CV 5/5] END max_depth=5, min_samples_leaf=9, min_samples_split=27;, score=0.526 total time=   0.3s\n",
      "[CV 1/5] END max_depth=5, min_samples_leaf=9, min_samples_split=81;, score=0.519 total time=   0.3s\n",
      "[CV 2/5] END max_depth=5, min_samples_leaf=9, min_samples_split=81;, score=0.634 total time=   0.3s\n",
      "[CV 3/5] END max_depth=5, min_samples_leaf=9, min_samples_split=81;, score=0.692 total time=   0.3s\n",
      "[CV 4/5] END max_depth=5, min_samples_leaf=9, min_samples_split=81;, score=0.365 total time=   0.4s\n",
      "[CV 5/5] END max_depth=5, min_samples_leaf=9, min_samples_split=81;, score=0.527 total time=   0.3s\n",
      "[CV 1/5] END max_depth=5, min_samples_leaf=27, min_samples_split=3;, score=0.516 total time=   0.3s\n",
      "[CV 2/5] END max_depth=5, min_samples_leaf=27, min_samples_split=3;, score=0.632 total time=   0.3s\n",
      "[CV 3/5] END max_depth=5, min_samples_leaf=27, min_samples_split=3;, score=0.681 total time=   0.3s\n",
      "[CV 4/5] END max_depth=5, min_samples_leaf=27, min_samples_split=3;, score=0.360 total time=   0.3s\n",
      "[CV 5/5] END max_depth=5, min_samples_leaf=27, min_samples_split=3;, score=0.525 total time=   0.3s\n",
      "[CV 1/5] END max_depth=5, min_samples_leaf=27, min_samples_split=9;, score=0.516 total time=   0.3s\n",
      "[CV 2/5] END max_depth=5, min_samples_leaf=27, min_samples_split=9;, score=0.632 total time=   0.2s\n",
      "[CV 3/5] END max_depth=5, min_samples_leaf=27, min_samples_split=9;, score=0.681 total time=   0.3s\n",
      "[CV 4/5] END max_depth=5, min_samples_leaf=27, min_samples_split=9;, score=0.360 total time=   0.3s\n",
      "[CV 5/5] END max_depth=5, min_samples_leaf=27, min_samples_split=9;, score=0.525 total time=   0.3s\n",
      "[CV 1/5] END max_depth=5, min_samples_leaf=27, min_samples_split=27;, score=0.516 total time=   0.3s\n",
      "[CV 2/5] END max_depth=5, min_samples_leaf=27, min_samples_split=27;, score=0.632 total time=   0.3s\n",
      "[CV 3/5] END max_depth=5, min_samples_leaf=27, min_samples_split=27;, score=0.681 total time=   0.3s\n",
      "[CV 4/5] END max_depth=5, min_samples_leaf=27, min_samples_split=27;, score=0.360 total time=   0.3s\n",
      "[CV 5/5] END max_depth=5, min_samples_leaf=27, min_samples_split=27;, score=0.525 total time=   0.3s\n",
      "[CV 1/5] END max_depth=5, min_samples_leaf=27, min_samples_split=81;, score=0.515 total time=   0.3s\n",
      "[CV 2/5] END max_depth=5, min_samples_leaf=27, min_samples_split=81;, score=0.631 total time=   0.2s\n",
      "[CV 3/5] END max_depth=5, min_samples_leaf=27, min_samples_split=81;, score=0.680 total time=   0.3s\n",
      "[CV 4/5] END max_depth=5, min_samples_leaf=27, min_samples_split=81;, score=0.358 total time=   0.3s\n",
      "[CV 5/5] END max_depth=5, min_samples_leaf=27, min_samples_split=81;, score=0.525 total time=   0.3s\n",
      "[CV 1/5] END max_depth=7, min_samples_leaf=1, min_samples_split=3;, score=0.529 total time=   0.4s\n",
      "[CV 2/5] END max_depth=7, min_samples_leaf=1, min_samples_split=3;, score=0.632 total time=   0.4s\n",
      "[CV 3/5] END max_depth=7, min_samples_leaf=1, min_samples_split=3;, score=0.690 total time=   0.5s\n",
      "[CV 4/5] END max_depth=7, min_samples_leaf=1, min_samples_split=3;, score=0.364 total time=   0.5s\n",
      "[CV 5/5] END max_depth=7, min_samples_leaf=1, min_samples_split=3;, score=0.518 total time=   0.5s\n",
      "[CV 1/5] END max_depth=7, min_samples_leaf=1, min_samples_split=9;, score=0.526 total time=   0.4s\n",
      "[CV 2/5] END max_depth=7, min_samples_leaf=1, min_samples_split=9;, score=0.630 total time=   0.5s\n",
      "[CV 3/5] END max_depth=7, min_samples_leaf=1, min_samples_split=9;, score=0.689 total time=   0.4s\n",
      "[CV 4/5] END max_depth=7, min_samples_leaf=1, min_samples_split=9;, score=0.366 total time=   0.5s\n",
      "[CV 5/5] END max_depth=7, min_samples_leaf=1, min_samples_split=9;, score=0.522 total time=   0.5s\n",
      "[CV 1/5] END max_depth=7, min_samples_leaf=1, min_samples_split=27;, score=0.528 total time=   0.5s\n",
      "[CV 2/5] END max_depth=7, min_samples_leaf=1, min_samples_split=27;, score=0.634 total time=   0.5s\n",
      "[CV 3/5] END max_depth=7, min_samples_leaf=1, min_samples_split=27;, score=0.691 total time=   0.5s\n",
      "[CV 4/5] END max_depth=7, min_samples_leaf=1, min_samples_split=27;, score=0.367 total time=   0.4s\n",
      "[CV 5/5] END max_depth=7, min_samples_leaf=1, min_samples_split=27;, score=0.530 total time=   0.5s\n",
      "[CV 1/5] END max_depth=7, min_samples_leaf=1, min_samples_split=81;, score=0.527 total time=   0.4s\n",
      "[CV 2/5] END max_depth=7, min_samples_leaf=1, min_samples_split=81;, score=0.637 total time=   0.3s\n",
      "[CV 3/5] END max_depth=7, min_samples_leaf=1, min_samples_split=81;, score=0.695 total time=   0.3s\n",
      "[CV 4/5] END max_depth=7, min_samples_leaf=1, min_samples_split=81;, score=0.369 total time=   0.3s\n",
      "[CV 5/5] END max_depth=7, min_samples_leaf=1, min_samples_split=81;, score=0.531 total time=   0.3s\n",
      "[CV 1/5] END max_depth=7, min_samples_leaf=3, min_samples_split=3;, score=0.528 total time=   0.4s\n",
      "[CV 2/5] END max_depth=7, min_samples_leaf=3, min_samples_split=3;, score=0.633 total time=   0.4s\n",
      "[CV 3/5] END max_depth=7, min_samples_leaf=3, min_samples_split=3;, score=0.694 total time=   0.4s\n",
      "[CV 4/5] END max_depth=7, min_samples_leaf=3, min_samples_split=3;, score=0.364 total time=   0.5s\n",
      "[CV 5/5] END max_depth=7, min_samples_leaf=3, min_samples_split=3;, score=0.524 total time=   0.4s\n",
      "[CV 1/5] END max_depth=7, min_samples_leaf=3, min_samples_split=9;, score=0.530 total time=   0.4s\n",
      "[CV 2/5] END max_depth=7, min_samples_leaf=3, min_samples_split=9;, score=0.634 total time=   0.4s\n",
      "[CV 3/5] END max_depth=7, min_samples_leaf=3, min_samples_split=9;, score=0.690 total time=   0.4s\n",
      "[CV 4/5] END max_depth=7, min_samples_leaf=3, min_samples_split=9;, score=0.365 total time=   0.4s\n",
      "[CV 5/5] END max_depth=7, min_samples_leaf=3, min_samples_split=9;, score=0.527 total time=   0.4s\n",
      "[CV 1/5] END max_depth=7, min_samples_leaf=3, min_samples_split=27;, score=0.527 total time=   0.4s\n",
      "[CV 2/5] END max_depth=7, min_samples_leaf=3, min_samples_split=27;, score=0.632 total time=   0.4s\n",
      "[CV 3/5] END max_depth=7, min_samples_leaf=3, min_samples_split=27;, score=0.694 total time=   0.5s\n",
      "[CV 4/5] END max_depth=7, min_samples_leaf=3, min_samples_split=27;, score=0.369 total time=   0.4s\n",
      "[CV 5/5] END max_depth=7, min_samples_leaf=3, min_samples_split=27;, score=0.527 total time=   0.4s\n",
      "[CV 1/5] END max_depth=7, min_samples_leaf=3, min_samples_split=81;, score=0.524 total time=   0.4s\n",
      "[CV 2/5] END max_depth=7, min_samples_leaf=3, min_samples_split=81;, score=0.637 total time=   0.3s\n",
      "[CV 3/5] END max_depth=7, min_samples_leaf=3, min_samples_split=81;, score=0.696 total time=   0.4s\n",
      "[CV 4/5] END max_depth=7, min_samples_leaf=3, min_samples_split=81;, score=0.369 total time=   0.3s\n",
      "[CV 5/5] END max_depth=7, min_samples_leaf=3, min_samples_split=81;, score=0.531 total time=   0.3s\n",
      "[CV 1/5] END max_depth=7, min_samples_leaf=9, min_samples_split=3;, score=0.527 total time=   0.3s\n",
      "[CV 2/5] END max_depth=7, min_samples_leaf=9, min_samples_split=3;, score=0.640 total time=   0.4s\n",
      "[CV 3/5] END max_depth=7, min_samples_leaf=9, min_samples_split=3;, score=0.692 total time=   0.4s\n",
      "[CV 4/5] END max_depth=7, min_samples_leaf=9, min_samples_split=3;, score=0.363 total time=   0.4s\n",
      "[CV 5/5] END max_depth=7, min_samples_leaf=9, min_samples_split=3;, score=0.528 total time=   0.4s\n",
      "[CV 1/5] END max_depth=7, min_samples_leaf=9, min_samples_split=9;, score=0.527 total time=   0.4s\n",
      "[CV 2/5] END max_depth=7, min_samples_leaf=9, min_samples_split=9;, score=0.640 total time=   0.4s\n",
      "[CV 3/5] END max_depth=7, min_samples_leaf=9, min_samples_split=9;, score=0.692 total time=   0.4s\n",
      "[CV 4/5] END max_depth=7, min_samples_leaf=9, min_samples_split=9;, score=0.363 total time=   0.3s\n",
      "[CV 5/5] END max_depth=7, min_samples_leaf=9, min_samples_split=9;, score=0.528 total time=   0.4s\n",
      "[CV 1/5] END max_depth=7, min_samples_leaf=9, min_samples_split=27;, score=0.527 total time=   0.3s\n",
      "[CV 2/5] END max_depth=7, min_samples_leaf=9, min_samples_split=27;, score=0.634 total time=   0.4s\n",
      "[CV 3/5] END max_depth=7, min_samples_leaf=9, min_samples_split=27;, score=0.690 total time=   0.3s\n",
      "[CV 4/5] END max_depth=7, min_samples_leaf=9, min_samples_split=27;, score=0.365 total time=   0.3s\n",
      "[CV 5/5] END max_depth=7, min_samples_leaf=9, min_samples_split=27;, score=0.529 total time=   0.4s\n",
      "[CV 1/5] END max_depth=7, min_samples_leaf=9, min_samples_split=81;, score=0.521 total time=   0.3s\n",
      "[CV 2/5] END max_depth=7, min_samples_leaf=9, min_samples_split=81;, score=0.637 total time=   0.3s\n",
      "[CV 3/5] END max_depth=7, min_samples_leaf=9, min_samples_split=81;, score=0.693 total time=   0.4s\n",
      "[CV 4/5] END max_depth=7, min_samples_leaf=9, min_samples_split=81;, score=0.365 total time=   0.3s\n",
      "[CV 5/5] END max_depth=7, min_samples_leaf=9, min_samples_split=81;, score=0.528 total time=   0.4s\n",
      "[CV 1/5] END max_depth=7, min_samples_leaf=27, min_samples_split=3;, score=0.518 total time=   0.3s\n",
      "[CV 2/5] END max_depth=7, min_samples_leaf=27, min_samples_split=3;, score=0.630 total time=   0.3s\n",
      "[CV 3/5] END max_depth=7, min_samples_leaf=27, min_samples_split=3;, score=0.684 total time=   0.4s\n",
      "[CV 4/5] END max_depth=7, min_samples_leaf=27, min_samples_split=3;, score=0.355 total time=   0.3s\n",
      "[CV 5/5] END max_depth=7, min_samples_leaf=27, min_samples_split=3;, score=0.526 total time=   0.3s\n",
      "[CV 1/5] END max_depth=7, min_samples_leaf=27, min_samples_split=9;, score=0.518 total time=   0.3s\n",
      "[CV 2/5] END max_depth=7, min_samples_leaf=27, min_samples_split=9;, score=0.630 total time=   0.3s\n",
      "[CV 3/5] END max_depth=7, min_samples_leaf=27, min_samples_split=9;, score=0.684 total time=   0.3s\n",
      "[CV 4/5] END max_depth=7, min_samples_leaf=27, min_samples_split=9;, score=0.355 total time=   0.4s\n",
      "[CV 5/5] END max_depth=7, min_samples_leaf=27, min_samples_split=9;, score=0.526 total time=   0.4s\n",
      "[CV 1/5] END max_depth=7, min_samples_leaf=27, min_samples_split=27;, score=0.518 total time=   0.4s\n",
      "[CV 2/5] END max_depth=7, min_samples_leaf=27, min_samples_split=27;, score=0.630 total time=   0.4s\n",
      "[CV 3/5] END max_depth=7, min_samples_leaf=27, min_samples_split=27;, score=0.684 total time=   0.3s\n",
      "[CV 4/5] END max_depth=7, min_samples_leaf=27, min_samples_split=27;, score=0.355 total time=   0.3s\n",
      "[CV 5/5] END max_depth=7, min_samples_leaf=27, min_samples_split=27;, score=0.526 total time=   0.3s\n",
      "[CV 1/5] END max_depth=7, min_samples_leaf=27, min_samples_split=81;, score=0.519 total time=   0.3s\n",
      "[CV 2/5] END max_depth=7, min_samples_leaf=27, min_samples_split=81;, score=0.631 total time=   0.3s\n",
      "[CV 3/5] END max_depth=7, min_samples_leaf=27, min_samples_split=81;, score=0.681 total time=   0.3s\n",
      "[CV 4/5] END max_depth=7, min_samples_leaf=27, min_samples_split=81;, score=0.357 total time=   0.3s\n",
      "[CV 5/5] END max_depth=7, min_samples_leaf=27, min_samples_split=81;, score=0.526 total time=   0.3s\n"
     ]
    },
    {
     "data": {
      "text/plain": [
       "GridSearchCV(estimator=RandomForestRegressor(max_features=64, random_state=1,\n",
       "                                             warm_start=True),\n",
       "             param_grid={'max_depth': array([1, 3, 5, 7]),\n",
       "                         'min_samples_leaf': [1, 3, 9, 27],\n",
       "                         'min_samples_split': [3, 9, 27, 81]},\n",
       "             scoring='r2', verbose=3)"
      ]
     },
     "execution_count": 50,
     "metadata": {},
     "output_type": "execute_result"
    }
   ],
   "source": [
    "gs2.fit(x1, y1)"
   ]
  },
  {
   "cell_type": "code",
   "execution_count": 51,
   "metadata": {},
   "outputs": [],
   "source": [
    "maxim = -1\n",
    "depth = None\n",
    "samples_leaf = None\n",
    "samples_split = None\n",
    "for i in zip(gs2.cv_results_['mean_test_score'], gs2.cv_results_['param_max_depth'], gs2.cv_results_['param_min_samples_leaf'], gs2.cv_results_['param_min_samples_split']):\n",
    "    if i[0] > maxim:\n",
    "        maxim = i[0]\n",
    "        depth = i[1]\n",
    "        samples_leaf = i[2]\n",
    "        samples_split = i[3]"
   ]
  },
  {
   "cell_type": "markdown",
   "metadata": {},
   "source": [
    "Оптимальные значения параметров:\n",
    "* _min_samples_split_ - **81**\n",
    "* _min_samples_leaf_ - **1**\n",
    "* _max_depth_ - **7**"
   ]
  },
  {
   "cell_type": "code",
   "execution_count": 52,
   "metadata": {},
   "outputs": [],
   "source": [
    "tree = RandomForestRegressor(n_estimators=500, max_features=max_feat, max_depth=depth, min_samples_leaf=samples_leaf, min_samples_split=samples_split, random_state=1, warm_start=True)"
   ]
  },
  {
   "cell_type": "code",
   "execution_count": 53,
   "metadata": {},
   "outputs": [
    {
     "data": {
      "text/plain": [
       "RandomForestRegressor(max_depth=7, max_features=64, min_samples_split=81,\n",
       "                      n_estimators=500, random_state=1, warm_start=True)"
      ]
     },
     "execution_count": 53,
     "metadata": {},
     "output_type": "execute_result"
    }
   ],
   "source": [
    "tree.fit(x1, y1)"
   ]
  },
  {
   "cell_type": "markdown",
   "metadata": {},
   "source": [
    "__Задание 2.__\n",
    "\n",
    "Теперь настроим градиентный бустинг, используя ту же выборку x1, y1.\n",
    "\n",
    "1.  __(1.5 балла)__ Запустите кросс-валидацию для GradentBoostingRegressor по n_estimators и learning_rate. Постройте двумерный график или несколько одномерных (например, график качество-число деревьев при разных значениях длины шага). При построении графиков используйте логарифмическую шкалу по оси абсцисс (вызовите np.log2 или используйте plt.xscale(\"log\")). Прокомментируйте график: ожидаете ли вы такое поведение, или результат нестандартный? Выберите значения для использования при дальнейшей настройке и для финального обучения модели.\n",
    "1.  __(1.25 балла)__ Постройте график зависимости качества от max_depth на кросс-валидации. Прокомментируйте график: ожидаете ли вы такое поведение, или результат нестандартный? Выберите оптимальное значение гиперпараметра.\n",
    "1.  __(1.25 балла)__ Выберите оптимальные значения для min_samples_split, min_samples_leaf, max_features с помощью кросс-валидации. В этом пункте не нужно строить график. Обратите внимание, что в этом пункте нужно исползьзовать ранее выбранные гиперпараметры.\n",
    "1.  __(0.5 балла)__ Обучите итоговую модель с выбранными значениями гиперпараметров на всей выборке x1, y1.\n",
    "\n",
    "Примеры построения трехмерных графиков [здесь](https://matplotlib.org/mpl_toolkits/mplot3d/tutorial.html)."
   ]
  },
  {
   "cell_type": "code",
   "execution_count": 18,
   "metadata": {},
   "outputs": [],
   "source": [
    "# базовая шкала для числа деревьев и длины шага\n",
    "param_grid = {\"n_estimators\":2**np.arange(10), \"learning_rate\":0.1**np.arange(5)}\n",
    "gs3 = GridSearchCV(GradientBoostingRegressor(random_state=1, warm_start=True), param_grid, scoring='r2', verbose=3)"
   ]
  },
  {
   "cell_type": "code",
   "execution_count": 19,
   "metadata": {
    "scrolled": true
   },
   "outputs": [
    {
     "name": "stdout",
     "output_type": "stream",
     "text": [
      "Fitting 5 folds for each of 50 candidates, totalling 250 fits\n",
      "[CV 1/5] END .learning_rate=1.0, n_estimators=1;, score=0.524 total time=   0.0s\n",
      "[CV 2/5] END .learning_rate=1.0, n_estimators=1;, score=0.627 total time=   0.0s\n",
      "[CV 3/5] END .learning_rate=1.0, n_estimators=1;, score=0.702 total time=   0.0s\n",
      "[CV 4/5] END .learning_rate=1.0, n_estimators=1;, score=0.381 total time=   0.0s\n",
      "[CV 5/5] END .learning_rate=1.0, n_estimators=1;, score=0.488 total time=   0.0s\n",
      "[CV 1/5] END .learning_rate=1.0, n_estimators=2;, score=0.528 total time=   0.0s\n",
      "[CV 2/5] END .learning_rate=1.0, n_estimators=2;, score=0.627 total time=   0.0s\n",
      "[CV 3/5] END .learning_rate=1.0, n_estimators=2;, score=0.680 total time=   0.0s\n",
      "[CV 4/5] END .learning_rate=1.0, n_estimators=2;, score=0.368 total time=   0.0s\n",
      "[CV 5/5] END .learning_rate=1.0, n_estimators=2;, score=0.492 total time=   0.0s\n",
      "[CV 1/5] END .learning_rate=1.0, n_estimators=4;, score=0.527 total time=   0.0s\n",
      "[CV 2/5] END .learning_rate=1.0, n_estimators=4;, score=0.617 total time=   0.0s\n",
      "[CV 3/5] END .learning_rate=1.0, n_estimators=4;, score=0.670 total time=   0.0s\n",
      "[CV 4/5] END .learning_rate=1.0, n_estimators=4;, score=0.096 total time=   0.0s\n",
      "[CV 5/5] END .learning_rate=1.0, n_estimators=4;, score=0.490 total time=   0.0s\n",
      "[CV 1/5] END .learning_rate=1.0, n_estimators=8;, score=0.511 total time=   0.0s\n",
      "[CV 2/5] END .learning_rate=1.0, n_estimators=8;, score=0.581 total time=   0.0s\n",
      "[CV 3/5] END .learning_rate=1.0, n_estimators=8;, score=0.449 total time=   0.0s\n",
      "[CV 4/5] END .learning_rate=1.0, n_estimators=8;, score=0.074 total time=   0.0s\n",
      "[CV 5/5] END .learning_rate=1.0, n_estimators=8;, score=0.444 total time=   0.0s\n",
      "[CV 1/5] END learning_rate=1.0, n_estimators=16;, score=0.426 total time=   0.1s\n",
      "[CV 2/5] END learning_rate=1.0, n_estimators=16;, score=0.530 total time=   0.1s\n",
      "[CV 3/5] END learning_rate=1.0, n_estimators=16;, score=0.418 total time=   0.1s\n",
      "[CV 4/5] END learning_rate=1.0, n_estimators=16;, score=0.056 total time=   0.1s\n",
      "[CV 5/5] END learning_rate=1.0, n_estimators=16;, score=0.353 total time=   0.1s\n",
      "[CV 1/5] END learning_rate=1.0, n_estimators=32;, score=0.379 total time=   0.3s\n",
      "[CV 2/5] END learning_rate=1.0, n_estimators=32;, score=0.470 total time=   0.3s\n",
      "[CV 3/5] END learning_rate=1.0, n_estimators=32;, score=0.366 total time=   0.3s\n",
      "[CV 4/5] END learning_rate=1.0, n_estimators=32;, score=0.014 total time=   0.3s\n",
      "[CV 5/5] END learning_rate=1.0, n_estimators=32;, score=0.321 total time=   0.3s\n",
      "[CV 1/5] END learning_rate=1.0, n_estimators=64;, score=0.312 total time=   0.7s\n",
      "[CV 2/5] END learning_rate=1.0, n_estimators=64;, score=0.392 total time=   0.7s\n",
      "[CV 3/5] END learning_rate=1.0, n_estimators=64;, score=0.235 total time=   0.7s\n",
      "[CV 4/5] END learning_rate=1.0, n_estimators=64;, score=-0.010 total time=   0.7s\n",
      "[CV 5/5] END learning_rate=1.0, n_estimators=64;, score=0.086 total time=   0.6s\n",
      "[CV 1/5] END learning_rate=1.0, n_estimators=128;, score=0.218 total time=   1.5s\n",
      "[CV 2/5] END learning_rate=1.0, n_estimators=128;, score=0.277 total time=   1.4s\n",
      "[CV 3/5] END learning_rate=1.0, n_estimators=128;, score=0.128 total time=   1.3s\n",
      "[CV 4/5] END learning_rate=1.0, n_estimators=128;, score=-0.097 total time=   1.3s\n",
      "[CV 5/5] END learning_rate=1.0, n_estimators=128;, score=-0.023 total time=   1.3s\n",
      "[CV 1/5] END learning_rate=1.0, n_estimators=256;, score=0.182 total time=   2.6s\n",
      "[CV 2/5] END learning_rate=1.0, n_estimators=256;, score=0.219 total time=   2.8s\n",
      "[CV 3/5] END learning_rate=1.0, n_estimators=256;, score=0.054 total time=   2.7s\n",
      "[CV 4/5] END learning_rate=1.0, n_estimators=256;, score=-0.140 total time=   2.9s\n",
      "[CV 5/5] END learning_rate=1.0, n_estimators=256;, score=-0.058 total time=   2.9s\n",
      "[CV 1/5] END learning_rate=1.0, n_estimators=512;, score=0.124 total time=   6.2s\n",
      "[CV 2/5] END learning_rate=1.0, n_estimators=512;, score=0.192 total time=   6.1s\n",
      "[CV 3/5] END learning_rate=1.0, n_estimators=512;, score=-0.017 total time=   5.8s\n",
      "[CV 4/5] END learning_rate=1.0, n_estimators=512;, score=-0.192 total time=   5.9s\n",
      "[CV 5/5] END learning_rate=1.0, n_estimators=512;, score=-0.088 total time=   5.7s\n",
      "[CV 1/5] END .learning_rate=0.1, n_estimators=1;, score=0.096 total time=   0.0s\n",
      "[CV 2/5] END .learning_rate=0.1, n_estimators=1;, score=0.118 total time=   0.0s\n",
      "[CV 3/5] END .learning_rate=0.1, n_estimators=1;, score=0.131 total time=   0.0s\n",
      "[CV 4/5] END .learning_rate=0.1, n_estimators=1;, score=0.072 total time=   0.0s\n",
      "[CV 5/5] END .learning_rate=0.1, n_estimators=1;, score=0.106 total time=   0.0s\n",
      "[CV 1/5] END .learning_rate=0.1, n_estimators=2;, score=0.174 total time=   0.0s\n",
      "[CV 2/5] END .learning_rate=0.1, n_estimators=2;, score=0.216 total time=   0.0s\n",
      "[CV 3/5] END .learning_rate=0.1, n_estimators=2;, score=0.239 total time=   0.0s\n",
      "[CV 4/5] END .learning_rate=0.1, n_estimators=2;, score=0.132 total time=   0.0s\n",
      "[CV 5/5] END .learning_rate=0.1, n_estimators=2;, score=0.192 total time=   0.0s\n",
      "[CV 1/5] END .learning_rate=0.1, n_estimators=4;, score=0.291 total time=   0.0s\n",
      "[CV 2/5] END .learning_rate=0.1, n_estimators=4;, score=0.358 total time=   0.0s\n",
      "[CV 3/5] END .learning_rate=0.1, n_estimators=4;, score=0.399 total time=   0.0s\n",
      "[CV 4/5] END .learning_rate=0.1, n_estimators=4;, score=0.221 total time=   0.0s\n",
      "[CV 5/5] END .learning_rate=0.1, n_estimators=4;, score=0.314 total time=   0.0s\n",
      "[CV 1/5] END .learning_rate=0.1, n_estimators=8;, score=0.420 total time=   0.0s\n",
      "[CV 2/5] END .learning_rate=0.1, n_estimators=8;, score=0.516 total time=   0.0s\n",
      "[CV 3/5] END .learning_rate=0.1, n_estimators=8;, score=0.573 total time=   0.0s\n",
      "[CV 4/5] END .learning_rate=0.1, n_estimators=8;, score=0.316 total time=   0.0s\n",
      "[CV 5/5] END .learning_rate=0.1, n_estimators=8;, score=0.441 total time=   0.0s\n",
      "[CV 1/5] END learning_rate=0.1, n_estimators=16;, score=0.503 total time=   0.1s\n",
      "[CV 2/5] END learning_rate=0.1, n_estimators=16;, score=0.614 total time=   0.1s\n",
      "[CV 3/5] END learning_rate=0.1, n_estimators=16;, score=0.675 total time=   0.1s\n",
      "[CV 4/5] END learning_rate=0.1, n_estimators=16;, score=0.369 total time=   0.1s\n",
      "[CV 5/5] END learning_rate=0.1, n_estimators=16;, score=0.508 total time=   0.1s\n",
      "[CV 1/5] END learning_rate=0.1, n_estimators=32;, score=0.524 total time=   0.3s\n",
      "[CV 2/5] END learning_rate=0.1, n_estimators=32;, score=0.635 total time=   0.3s\n",
      "[CV 3/5] END learning_rate=0.1, n_estimators=32;, score=0.695 total time=   0.3s\n",
      "[CV 4/5] END learning_rate=0.1, n_estimators=32;, score=0.376 total time=   0.3s\n",
      "[CV 5/5] END learning_rate=0.1, n_estimators=32;, score=0.521 total time=   0.3s\n",
      "[CV 1/5] END learning_rate=0.1, n_estimators=64;, score=0.527 total time=   0.6s\n",
      "[CV 2/5] END learning_rate=0.1, n_estimators=64;, score=0.615 total time=   0.7s\n",
      "[CV 3/5] END learning_rate=0.1, n_estimators=64;, score=0.686 total time=   0.7s\n",
      "[CV 4/5] END learning_rate=0.1, n_estimators=64;, score=0.370 total time=   0.6s\n",
      "[CV 5/5] END learning_rate=0.1, n_estimators=64;, score=0.523 total time=   0.7s\n",
      "[CV 1/5] END learning_rate=0.1, n_estimators=128;, score=0.526 total time=   1.6s\n",
      "[CV 2/5] END learning_rate=0.1, n_estimators=128;, score=0.597 total time=   1.3s\n",
      "[CV 3/5] END learning_rate=0.1, n_estimators=128;, score=0.668 total time=   1.3s\n",
      "[CV 4/5] END learning_rate=0.1, n_estimators=128;, score=0.339 total time=   1.4s\n",
      "[CV 5/5] END learning_rate=0.1, n_estimators=128;, score=0.500 total time=   1.4s\n",
      "[CV 1/5] END learning_rate=0.1, n_estimators=256;, score=0.490 total time=   3.1s\n",
      "[CV 2/5] END learning_rate=0.1, n_estimators=256;, score=0.573 total time=   3.0s\n",
      "[CV 3/5] END learning_rate=0.1, n_estimators=256;, score=0.649 total time=   3.0s\n",
      "[CV 4/5] END learning_rate=0.1, n_estimators=256;, score=0.323 total time=   2.8s\n",
      "[CV 5/5] END learning_rate=0.1, n_estimators=256;, score=0.463 total time=   2.7s\n",
      "[CV 1/5] END learning_rate=0.1, n_estimators=512;, score=0.462 total time=   5.6s\n",
      "[CV 2/5] END learning_rate=0.1, n_estimators=512;, score=0.533 total time=   5.8s\n",
      "[CV 3/5] END learning_rate=0.1, n_estimators=512;, score=0.574 total time=   5.6s\n",
      "[CV 4/5] END learning_rate=0.1, n_estimators=512;, score=0.306 total time=   5.6s\n",
      "[CV 5/5] END learning_rate=0.1, n_estimators=512;, score=0.395 total time=   5.8s\n",
      "[CV 1/5] END learning_rate=0.010000000000000002, n_estimators=1;, score=0.010 total time=   0.0s\n",
      "[CV 2/5] END learning_rate=0.010000000000000002, n_estimators=1;, score=0.011 total time=   0.0s\n",
      "[CV 3/5] END learning_rate=0.010000000000000002, n_estimators=1;, score=0.010 total time=   0.0s\n",
      "[CV 4/5] END learning_rate=0.010000000000000002, n_estimators=1;, score=0.005 total time=   0.0s\n",
      "[CV 5/5] END learning_rate=0.010000000000000002, n_estimators=1;, score=0.010 total time=   0.0s\n",
      "[CV 1/5] END learning_rate=0.010000000000000002, n_estimators=2;, score=0.020 total time=   0.0s\n",
      "[CV 2/5] END learning_rate=0.010000000000000002, n_estimators=2;, score=0.024 total time=   0.0s\n",
      "[CV 3/5] END learning_rate=0.010000000000000002, n_estimators=2;, score=0.024 total time=   0.0s\n",
      "[CV 4/5] END learning_rate=0.010000000000000002, n_estimators=2;, score=0.013 total time=   0.0s\n",
      "[CV 5/5] END learning_rate=0.010000000000000002, n_estimators=2;, score=0.022 total time=   0.0s\n",
      "[CV 1/5] END learning_rate=0.010000000000000002, n_estimators=4;, score=0.039 total time=   0.0s\n",
      "[CV 2/5] END learning_rate=0.010000000000000002, n_estimators=4;, score=0.047 total time=   0.0s\n",
      "[CV 3/5] END learning_rate=0.010000000000000002, n_estimators=4;, score=0.051 total time=   0.0s\n",
      "[CV 4/5] END learning_rate=0.010000000000000002, n_estimators=4;, score=0.028 total time=   0.0s\n",
      "[CV 5/5] END learning_rate=0.010000000000000002, n_estimators=4;, score=0.043 total time=   0.0s\n",
      "[CV 1/5] END learning_rate=0.010000000000000002, n_estimators=8;, score=0.075 total time=   0.0s\n",
      "[CV 2/5] END learning_rate=0.010000000000000002, n_estimators=8;, score=0.092 total time=   0.0s\n",
      "[CV 3/5] END learning_rate=0.010000000000000002, n_estimators=8;, score=0.101 total time=   0.0s\n",
      "[CV 4/5] END learning_rate=0.010000000000000002, n_estimators=8;, score=0.056 total time=   0.0s\n",
      "[CV 5/5] END learning_rate=0.010000000000000002, n_estimators=8;, score=0.083 total time=   0.0s\n",
      "[CV 1/5] END learning_rate=0.010000000000000002, n_estimators=16;, score=0.139 total time=   0.1s\n",
      "[CV 2/5] END learning_rate=0.010000000000000002, n_estimators=16;, score=0.172 total time=   0.1s\n",
      "[CV 3/5] END learning_rate=0.010000000000000002, n_estimators=16;, score=0.191 total time=   0.1s\n",
      "[CV 4/5] END learning_rate=0.010000000000000002, n_estimators=16;, score=0.105 total time=   0.1s\n",
      "[CV 5/5] END learning_rate=0.010000000000000002, n_estimators=16;, score=0.154 total time=   0.1s\n",
      "[CV 1/5] END learning_rate=0.010000000000000002, n_estimators=32;, score=0.241 total time=   0.3s\n",
      "[CV 2/5] END learning_rate=0.010000000000000002, n_estimators=32;, score=0.298 total time=   0.3s\n",
      "[CV 3/5] END learning_rate=0.010000000000000002, n_estimators=32;, score=0.332 total time=   0.3s\n",
      "[CV 4/5] END learning_rate=0.010000000000000002, n_estimators=32;, score=0.184 total time=   0.3s\n",
      "[CV 5/5] END learning_rate=0.010000000000000002, n_estimators=32;, score=0.263 total time=   0.3s\n",
      "[CV 1/5] END learning_rate=0.010000000000000002, n_estimators=64;, score=0.371 total time=   0.6s\n",
      "[CV 2/5] END learning_rate=0.010000000000000002, n_estimators=64;, score=0.457 total time=   0.6s\n",
      "[CV 3/5] END learning_rate=0.010000000000000002, n_estimators=64;, score=0.509 total time=   0.6s\n",
      "[CV 4/5] END learning_rate=0.010000000000000002, n_estimators=64;, score=0.281 total time=   0.6s\n",
      "[CV 5/5] END learning_rate=0.010000000000000002, n_estimators=64;, score=0.395 total time=   0.6s\n",
      "[CV 1/5] END learning_rate=0.010000000000000002, n_estimators=128;, score=0.479 total time=   1.3s\n",
      "[CV 2/5] END learning_rate=0.010000000000000002, n_estimators=128;, score=0.587 total time=   1.3s\n",
      "[CV 3/5] END learning_rate=0.010000000000000002, n_estimators=128;, score=0.649 total time=   1.3s\n",
      "[CV 4/5] END learning_rate=0.010000000000000002, n_estimators=128;, score=0.357 total time=   1.5s\n",
      "[CV 5/5] END learning_rate=0.010000000000000002, n_estimators=128;, score=0.491 total time=   1.3s\n",
      "[CV 1/5] END learning_rate=0.010000000000000002, n_estimators=256;, score=0.522 total time=   2.7s\n",
      "[CV 2/5] END learning_rate=0.010000000000000002, n_estimators=256;, score=0.634 total time=   2.7s\n",
      "[CV 3/5] END learning_rate=0.010000000000000002, n_estimators=256;, score=0.694 total time=   2.7s\n",
      "[CV 4/5] END learning_rate=0.010000000000000002, n_estimators=256;, score=0.377 total time=   2.7s\n",
      "[CV 5/5] END learning_rate=0.010000000000000002, n_estimators=256;, score=0.518 total time=   2.8s\n",
      "[CV 1/5] END learning_rate=0.010000000000000002, n_estimators=512;, score=0.528 total time=   5.7s\n",
      "[CV 2/5] END learning_rate=0.010000000000000002, n_estimators=512;, score=0.632 total time=   5.5s\n",
      "[CV 3/5] END learning_rate=0.010000000000000002, n_estimators=512;, score=0.697 total time=   5.8s\n",
      "[CV 4/5] END learning_rate=0.010000000000000002, n_estimators=512;, score=0.372 total time=   5.6s\n",
      "[CV 5/5] END learning_rate=0.010000000000000002, n_estimators=512;, score=0.523 total time=   5.4s\n",
      "[CV 1/5] END learning_rate=0.0010000000000000002, n_estimators=1;, score=0.001 total time=   0.0s\n",
      "[CV 2/5] END learning_rate=0.0010000000000000002, n_estimators=1;, score=0.000 total time=   0.0s\n",
      "[CV 3/5] END learning_rate=0.0010000000000000002, n_estimators=1;, score=-0.003 total time=   0.0s\n",
      "[CV 4/5] END learning_rate=0.0010000000000000002, n_estimators=1;, score=-0.002 total time=   0.0s\n",
      "[CV 5/5] END learning_rate=0.0010000000000000002, n_estimators=1;, score=0.000 total time=   0.0s\n",
      "[CV 1/5] END learning_rate=0.0010000000000000002, n_estimators=2;, score=0.002 total time=   0.0s\n",
      "[CV 2/5] END learning_rate=0.0010000000000000002, n_estimators=2;, score=0.001 total time=   0.0s\n",
      "[CV 3/5] END learning_rate=0.0010000000000000002, n_estimators=2;, score=-0.001 total time=   0.0s\n",
      "[CV 4/5] END learning_rate=0.0010000000000000002, n_estimators=2;, score=-0.001 total time=   0.0s\n",
      "[CV 5/5] END learning_rate=0.0010000000000000002, n_estimators=2;, score=0.001 total time=   0.0s\n",
      "[CV 1/5] END learning_rate=0.0010000000000000002, n_estimators=4;, score=0.004 total time=   0.0s\n",
      "[CV 2/5] END learning_rate=0.0010000000000000002, n_estimators=4;, score=0.004 total time=   0.0s\n",
      "[CV 3/5] END learning_rate=0.0010000000000000002, n_estimators=4;, score=0.002 total time=   0.0s\n",
      "[CV 4/5] END learning_rate=0.0010000000000000002, n_estimators=4;, score=0.000 total time=   0.0s\n",
      "[CV 5/5] END learning_rate=0.0010000000000000002, n_estimators=4;, score=0.004 total time=   0.0s\n",
      "[CV 1/5] END learning_rate=0.0010000000000000002, n_estimators=8;, score=0.008 total time=   0.0s\n",
      "[CV 2/5] END learning_rate=0.0010000000000000002, n_estimators=8;, score=0.009 total time=   0.0s\n",
      "[CV 3/5] END learning_rate=0.0010000000000000002, n_estimators=8;, score=0.007 total time=   0.0s\n",
      "[CV 4/5] END learning_rate=0.0010000000000000002, n_estimators=8;, score=0.003 total time=   0.0s\n",
      "[CV 5/5] END learning_rate=0.0010000000000000002, n_estimators=8;, score=0.008 total time=   0.0s\n",
      "[CV 1/5] END learning_rate=0.0010000000000000002, n_estimators=16;, score=0.016 total time=   0.1s\n",
      "[CV 2/5] END learning_rate=0.0010000000000000002, n_estimators=16;, score=0.019 total time=   0.1s\n",
      "[CV 3/5] END learning_rate=0.0010000000000000002, n_estimators=16;, score=0.018 total time=   0.1s\n",
      "[CV 4/5] END learning_rate=0.0010000000000000002, n_estimators=16;, score=0.009 total time=   0.1s\n",
      "[CV 5/5] END learning_rate=0.0010000000000000002, n_estimators=16;, score=0.017 total time=   0.1s\n",
      "[CV 1/5] END learning_rate=0.0010000000000000002, n_estimators=32;, score=0.031 total time=   0.3s\n",
      "[CV 2/5] END learning_rate=0.0010000000000000002, n_estimators=32;, score=0.038 total time=   0.3s\n",
      "[CV 3/5] END learning_rate=0.0010000000000000002, n_estimators=32;, score=0.040 total time=   0.3s\n",
      "[CV 4/5] END learning_rate=0.0010000000000000002, n_estimators=32;, score=0.021 total time=   0.3s\n",
      "[CV 5/5] END learning_rate=0.0010000000000000002, n_estimators=32;, score=0.034 total time=   0.3s\n",
      "[CV 1/5] END learning_rate=0.0010000000000000002, n_estimators=64;, score=0.061 total time=   0.7s\n",
      "[CV 2/5] END learning_rate=0.0010000000000000002, n_estimators=64;, score=0.074 total time=   0.6s\n",
      "[CV 3/5] END learning_rate=0.0010000000000000002, n_estimators=64;, score=0.081 total time=   0.6s\n",
      "[CV 4/5] END learning_rate=0.0010000000000000002, n_estimators=64;, score=0.044 total time=   0.6s\n",
      "[CV 5/5] END learning_rate=0.0010000000000000002, n_estimators=64;, score=0.067 total time=   0.6s\n",
      "[CV 1/5] END learning_rate=0.0010000000000000002, n_estimators=128;, score=0.114 total time=   1.3s\n",
      "[CV 2/5] END learning_rate=0.0010000000000000002, n_estimators=128;, score=0.141 total time=   1.3s\n",
      "[CV 3/5] END learning_rate=0.0010000000000000002, n_estimators=128;, score=0.156 total time=   1.2s\n",
      "[CV 4/5] END learning_rate=0.0010000000000000002, n_estimators=128;, score=0.086 total time=   1.3s\n",
      "[CV 5/5] END learning_rate=0.0010000000000000002, n_estimators=128;, score=0.126 total time=   1.3s\n",
      "[CV 1/5] END learning_rate=0.0010000000000000002, n_estimators=256;, score=0.203 total time=   2.7s\n",
      "[CV 2/5] END learning_rate=0.0010000000000000002, n_estimators=256;, score=0.251 total time=   3.1s\n",
      "[CV 3/5] END learning_rate=0.0010000000000000002, n_estimators=256;, score=0.280 total time=   3.0s\n",
      "[CV 4/5] END learning_rate=0.0010000000000000002, n_estimators=256;, score=0.155 total time=   2.8s\n",
      "[CV 5/5] END learning_rate=0.0010000000000000002, n_estimators=256;, score=0.223 total time=   2.7s\n",
      "[CV 1/5] END learning_rate=0.0010000000000000002, n_estimators=512;, score=0.328 total time=   5.4s\n",
      "[CV 2/5] END learning_rate=0.0010000000000000002, n_estimators=512;, score=0.404 total time=   6.5s\n",
      "[CV 3/5] END learning_rate=0.0010000000000000002, n_estimators=512;, score=0.450 total time=   7.1s\n",
      "[CV 4/5] END learning_rate=0.0010000000000000002, n_estimators=512;, score=0.248 total time=   6.2s\n",
      "[CV 5/5] END learning_rate=0.0010000000000000002, n_estimators=512;, score=0.352 total time=   4.9s\n",
      "[CV 1/5] END learning_rate=0.00010000000000000002, n_estimators=1;, score=0.000 total time=   0.0s\n",
      "[CV 2/5] END learning_rate=0.00010000000000000002, n_estimators=1;, score=-0.001 total time=   0.0s\n",
      "[CV 3/5] END learning_rate=0.00010000000000000002, n_estimators=1;, score=-0.004 total time=   0.0s\n",
      "[CV 4/5] END learning_rate=0.00010000000000000002, n_estimators=1;, score=-0.003 total time=   0.0s\n",
      "[CV 5/5] END learning_rate=0.00010000000000000002, n_estimators=1;, score=-0.001 total time=   0.0s\n",
      "[CV 1/5] END learning_rate=0.00010000000000000002, n_estimators=2;, score=0.000 total time=   0.0s\n",
      "[CV 2/5] END learning_rate=0.00010000000000000002, n_estimators=2;, score=-0.001 total time=   0.0s\n",
      "[CV 3/5] END learning_rate=0.00010000000000000002, n_estimators=2;, score=-0.004 total time=   0.0s\n",
      "[CV 4/5] END learning_rate=0.00010000000000000002, n_estimators=2;, score=-0.003 total time=   0.0s\n",
      "[CV 5/5] END learning_rate=0.00010000000000000002, n_estimators=2;, score=-0.001 total time=   0.0s\n",
      "[CV 1/5] END learning_rate=0.00010000000000000002, n_estimators=4;, score=0.000 total time=   0.0s\n",
      "[CV 2/5] END learning_rate=0.00010000000000000002, n_estimators=4;, score=-0.001 total time=   0.0s\n",
      "[CV 3/5] END learning_rate=0.00010000000000000002, n_estimators=4;, score=-0.003 total time=   0.0s\n",
      "[CV 4/5] END learning_rate=0.00010000000000000002, n_estimators=4;, score=-0.003 total time=   0.0s\n",
      "[CV 5/5] END learning_rate=0.00010000000000000002, n_estimators=4;, score=-0.000 total time=   0.0s\n",
      "[CV 1/5] END learning_rate=0.00010000000000000002, n_estimators=8;, score=0.001 total time=   0.0s\n",
      "[CV 2/5] END learning_rate=0.00010000000000000002, n_estimators=8;, score=-0.000 total time=   0.0s\n",
      "[CV 3/5] END learning_rate=0.00010000000000000002, n_estimators=8;, score=-0.003 total time=   0.0s\n",
      "[CV 4/5] END learning_rate=0.00010000000000000002, n_estimators=8;, score=-0.002 total time=   0.0s\n",
      "[CV 5/5] END learning_rate=0.00010000000000000002, n_estimators=8;, score=0.000 total time=   0.0s\n",
      "[CV 1/5] END learning_rate=0.00010000000000000002, n_estimators=16;, score=0.002 total time=   0.1s\n",
      "[CV 2/5] END learning_rate=0.00010000000000000002, n_estimators=16;, score=0.001 total time=   0.1s\n",
      "[CV 3/5] END learning_rate=0.00010000000000000002, n_estimators=16;, score=-0.002 total time=   0.1s\n",
      "[CV 4/5] END learning_rate=0.00010000000000000002, n_estimators=16;, score=-0.002 total time=   0.1s\n",
      "[CV 5/5] END learning_rate=0.00010000000000000002, n_estimators=16;, score=0.001 total time=   0.1s\n",
      "[CV 1/5] END learning_rate=0.00010000000000000002, n_estimators=32;, score=0.003 total time=   0.3s\n",
      "[CV 2/5] END learning_rate=0.00010000000000000002, n_estimators=32;, score=0.003 total time=   0.2s\n",
      "[CV 3/5] END learning_rate=0.00010000000000000002, n_estimators=32;, score=0.001 total time=   0.2s\n",
      "[CV 4/5] END learning_rate=0.00010000000000000002, n_estimators=32;, score=-0.000 total time=   0.3s\n",
      "[CV 5/5] END learning_rate=0.00010000000000000002, n_estimators=32;, score=0.003 total time=   0.2s\n",
      "[CV 1/5] END learning_rate=0.00010000000000000002, n_estimators=64;, score=0.006 total time=   0.5s\n",
      "[CV 2/5] END learning_rate=0.00010000000000000002, n_estimators=64;, score=0.007 total time=   0.5s\n",
      "[CV 3/5] END learning_rate=0.00010000000000000002, n_estimators=64;, score=0.005 total time=   0.6s\n",
      "[CV 4/5] END learning_rate=0.00010000000000000002, n_estimators=64;, score=0.002 total time=   0.6s\n",
      "[CV 5/5] END learning_rate=0.00010000000000000002, n_estimators=64;, score=0.006 total time=   0.6s\n",
      "[CV 1/5] END learning_rate=0.00010000000000000002, n_estimators=128;, score=0.013 total time=   1.4s\n",
      "[CV 2/5] END learning_rate=0.00010000000000000002, n_estimators=128;, score=0.015 total time=   1.2s\n",
      "[CV 3/5] END learning_rate=0.00010000000000000002, n_estimators=128;, score=0.014 total time=   1.2s\n",
      "[CV 4/5] END learning_rate=0.00010000000000000002, n_estimators=128;, score=0.007 total time=   1.3s\n",
      "[CV 5/5] END learning_rate=0.00010000000000000002, n_estimators=128;, score=0.014 total time=   1.2s\n",
      "[CV 1/5] END learning_rate=0.00010000000000000002, n_estimators=256;, score=0.025 total time=   2.5s\n",
      "[CV 2/5] END learning_rate=0.00010000000000000002, n_estimators=256;, score=0.030 total time=   2.4s\n",
      "[CV 3/5] END learning_rate=0.00010000000000000002, n_estimators=256;, score=0.031 total time=   2.5s\n",
      "[CV 4/5] END learning_rate=0.00010000000000000002, n_estimators=256;, score=0.017 total time=   2.7s\n",
      "[CV 5/5] END learning_rate=0.00010000000000000002, n_estimators=256;, score=0.027 total time=   2.5s\n",
      "[CV 1/5] END learning_rate=0.00010000000000000002, n_estimators=512;, score=0.049 total time=   5.1s\n",
      "[CV 2/5] END learning_rate=0.00010000000000000002, n_estimators=512;, score=0.060 total time=   5.4s\n",
      "[CV 3/5] END learning_rate=0.00010000000000000002, n_estimators=512;, score=0.065 total time=   6.2s\n",
      "[CV 4/5] END learning_rate=0.00010000000000000002, n_estimators=512;, score=0.035 total time=   5.7s\n",
      "[CV 5/5] END learning_rate=0.00010000000000000002, n_estimators=512;, score=0.054 total time=   5.7s\n"
     ]
    },
    {
     "data": {
      "text/plain": [
       "GridSearchCV(estimator=GradientBoostingRegressor(random_state=1,\n",
       "                                                 warm_start=True),\n",
       "             param_grid={'learning_rate': array([1.e+00, 1.e-01, 1.e-02, 1.e-03, 1.e-04]),\n",
       "                         'n_estimators': array([  1,   2,   4,   8,  16,  32,  64, 128, 256, 512], dtype=int32)},\n",
       "             scoring='r2', verbose=3)"
      ]
     },
     "execution_count": 19,
     "metadata": {},
     "output_type": "execute_result"
    }
   ],
   "source": [
    "gs3.fit(x1, y1)"
   ]
  },
  {
   "cell_type": "code",
   "execution_count": 23,
   "metadata": {},
   "outputs": [
    {
     "data": {
      "image/png": "[encoded data removed]",
      "text/plain": [
       "<Figure size 432x288 with 2 Axes>"
      ]
     },
     "metadata": {
      "needs_background": "light"
     },
     "output_type": "display_data"
    }
   ],
   "source": [
    "fig = plt.figure()\n",
    "plt.scatter(gs3.cv_results_['param_learning_rate'].data, gs3.cv_results_['param_n_estimators'].data, \n",
    "           linewidths=1, alpha=.5,\n",
    "           edgecolor='k',\n",
    "           s = 200,\n",
    "           c=gs3.cv_results_['mean_test_score'])\n",
    "plt.xscale(\"log\")\n",
    "plt.yscale(\"log\")\n",
    "plt.xlabel(\"learning_rate\")\n",
    "plt.ylabel(\"n_estimators\")\n",
    "plt.colorbar()\n",
    "plt.show()"
   ]
  },
  {
   "cell_type": "code",
   "execution_count": 28,
   "metadata": {},
   "outputs": [],
   "source": [
    "maxim = -1\n",
    "n_estim = None\n",
    "learning_r = None\n",
    "for i in zip(gs3.cv_results_['mean_test_score'], gs3.cv_results_['param_n_estimators'], gs3.cv_results_['param_learning_rate']):\n",
    "    if i[0] > maxim:\n",
    "        maxim = i[0]\n",
    "        n_estim = i[1]\n",
    "        learning_r = i[2]"
   ]
  },
  {
   "cell_type": "markdown",
   "metadata": {},
   "source": [
    "##### Прокомментируйте график: ожидаете ли вы такое поведение, или результат нестандартный? Выберите значения для использования при дальнейшей настройке и для финального обучения модели. <br>\n",
    "\n",
    "Результат стандартный, так как, чем больше времени у модели на обучение (т. е. чем больше _learning_rate_), тем меньше ей должно требоваться деревьев для эффективного обучения (т. е. тем меньше _n_estimators_). При этом, как и всегда, если деревьев становится слишком много, происходит переобучение и эффективность качества модели снижается. <br>\n",
    "\n",
    "Оптимальные значения параметров:\n",
    "* _learning_rate_ - **0.01**\n",
    "* _n_estimators_ - **512**"
   ]
  },
  {
   "cell_type": "code",
   "execution_count": 29,
   "metadata": {},
   "outputs": [],
   "source": [
    "# базовая шкала для max_depth\n",
    "param_grid = {\"max_depth\":np.arange(1, 9)}\n",
    "gs4 = GridSearchCV(GradientBoostingRegressor(learning_rate=learning_r, n_estimators=n_estim, random_state=1, warm_start=True), param_grid, scoring='r2', verbose=3)"
   ]
  },
  {
   "cell_type": "code",
   "execution_count": 30,
   "metadata": {
    "scrolled": true
   },
   "outputs": [
    {
     "name": "stdout",
     "output_type": "stream",
     "text": [
      "Fitting 5 folds for each of 8 candidates, totalling 40 fits\n",
      "[CV 1/5] END .......................max_depth=1;, score=0.486 total time=   2.0s\n",
      "[CV 2/5] END .......................max_depth=1;, score=0.591 total time=   2.0s\n",
      "[CV 3/5] END .......................max_depth=1;, score=0.649 total time=   2.0s\n",
      "[CV 4/5] END .......................max_depth=1;, score=0.340 total time=   2.2s\n",
      "[CV 5/5] END .......................max_depth=1;, score=0.493 total time=   2.0s\n",
      "[CV 1/5] END .......................max_depth=2;, score=0.529 total time=   4.0s\n",
      "[CV 2/5] END .......................max_depth=2;, score=0.644 total time=   3.9s\n",
      "[CV 3/5] END .......................max_depth=2;, score=0.702 total time=   4.2s\n",
      "[CV 4/5] END .......................max_depth=2;, score=0.375 total time=   4.1s\n",
      "[CV 5/5] END .......................max_depth=2;, score=0.529 total time=   3.8s\n",
      "[CV 1/5] END .......................max_depth=3;, score=0.528 total time=   5.8s\n",
      "[CV 2/5] END .......................max_depth=3;, score=0.632 total time=   6.1s\n",
      "[CV 3/5] END .......................max_depth=3;, score=0.697 total time=   6.0s\n",
      "[CV 4/5] END .......................max_depth=3;, score=0.372 total time=   6.0s\n",
      "[CV 5/5] END .......................max_depth=3;, score=0.523 total time=   5.8s\n",
      "[CV 1/5] END .......................max_depth=4;, score=0.502 total time=   7.0s\n",
      "[CV 2/5] END .......................max_depth=4;, score=0.614 total time=   7.9s\n",
      "[CV 3/5] END .......................max_depth=4;, score=0.654 total time=   8.2s\n",
      "[CV 4/5] END .......................max_depth=4;, score=0.370 total time=   7.9s\n",
      "[CV 5/5] END .......................max_depth=4;, score=0.508 total time=   7.8s\n",
      "[CV 1/5] END .......................max_depth=5;, score=0.533 total time=  10.2s\n",
      "[CV 2/5] END .......................max_depth=5;, score=0.561 total time=   8.4s\n",
      "[CV 3/5] END .......................max_depth=5;, score=0.660 total time=   8.5s\n",
      "[CV 4/5] END .......................max_depth=5;, score=0.327 total time=   8.4s\n",
      "[CV 5/5] END .......................max_depth=5;, score=0.463 total time=   8.2s\n",
      "[CV 1/5] END .......................max_depth=6;, score=0.487 total time=  10.0s\n",
      "[CV 2/5] END .......................max_depth=6;, score=0.563 total time=   9.8s\n",
      "[CV 3/5] END .......................max_depth=6;, score=0.636 total time=  10.7s\n",
      "[CV 4/5] END .......................max_depth=6;, score=0.313 total time=  10.8s\n",
      "[CV 5/5] END .......................max_depth=6;, score=0.481 total time=  10.8s\n",
      "[CV 1/5] END .......................max_depth=7;, score=0.490 total time=  13.3s\n",
      "[CV 2/5] END .......................max_depth=7;, score=0.558 total time=  12.6s\n",
      "[CV 3/5] END .......................max_depth=7;, score=0.409 total time=  12.9s\n",
      "[CV 4/5] END .......................max_depth=7;, score=0.299 total time=  12.4s\n",
      "[CV 5/5] END .......................max_depth=7;, score=0.437 total time=  11.6s\n",
      "[CV 1/5] END .......................max_depth=8;, score=0.487 total time=  13.9s\n",
      "[CV 2/5] END .......................max_depth=8;, score=0.555 total time=  13.9s\n",
      "[CV 3/5] END .......................max_depth=8;, score=0.389 total time=  13.7s\n",
      "[CV 4/5] END .......................max_depth=8;, score=0.292 total time=  15.2s\n",
      "[CV 5/5] END .......................max_depth=8;, score=0.365 total time=  14.2s\n"
     ]
    },
    {
     "data": {
      "text/plain": [
       "GridSearchCV(estimator=GradientBoostingRegressor(learning_rate=0.010000000000000002,\n",
       "                                                 n_estimators=512,\n",
       "                                                 random_state=1,\n",
       "                                                 warm_start=True),\n",
       "             param_grid={'max_depth': array([1, 2, 3, 4, 5, 6, 7, 8])},\n",
       "             scoring='r2', verbose=3)"
      ]
     },
     "execution_count": 30,
     "metadata": {},
     "output_type": "execute_result"
    }
   ],
   "source": [
    "gs4.fit(x1, y1)"
   ]
  },
  {
   "cell_type": "code",
   "execution_count": 32,
   "metadata": {},
   "outputs": [
    {
     "data": {
      "text/plain": [
       "Text(0, 0.5, 'R2')"
      ]
     },
     "execution_count": 32,
     "metadata": {},
     "output_type": "execute_result"
    },
    {
     "data": {
      "image/png": "[encoded data removed]",
      "text/plain": [
       "<Figure size 432x288 with 1 Axes>"
      ]
     },
     "metadata": {
      "needs_background": "light"
     },
     "output_type": "display_data"
    }
   ],
   "source": [
    "plt.plot((param_grid[\"max_depth\"]), gs4.cv_results_['mean_test_score'])\n",
    "plt.xlabel(\"max_depth\")\n",
    "plt.ylabel(\"R2\")"
   ]
  },
  {
   "cell_type": "markdown",
   "metadata": {},
   "source": [
    "##### Прокомментируйте график: ожидаете ли вы такое поведение, или результат нестандартный? Выберите оптимальное значение гиперпараметра.<br>\n",
    "\n",
    "Результат кажется логичным, так как при решающих пнях (т. е. _max_depth_ равному единице) качество модели достаточно низкое. Дальше оно должно повышаться с увеличением максимальной глубины, а затем снижаться из-за переобучения. В целом, на этом графике все так и происходит, единственное, что максимума качества мы достигаем не при дефолтном значении _max_depth_ равном тройке.<br>\n",
    "\n",
    "Оптимальное значение гиперпараметра _max_depth_ - **2**"
   ]
  },
  {
   "cell_type": "code",
   "execution_count": 33,
   "metadata": {},
   "outputs": [],
   "source": [
    "# базовая шкала для остальных гиперпараметров\n",
    "param_grid = {\"max_features\":2**np.arange(1, 9, 2), \"min_samples_leaf\":[1, 3, 9, 27], \n",
    "              \"min_samples_split\":[3, 9, 27, 81]}\n",
    "gs5 = GridSearchCV(GradientBoostingRegressor(learning_rate=learning_r, n_estimators=n_estim, max_depth=2, random_state=1, warm_start=True), param_grid, scoring='r2', verbose=3)"
   ]
  },
  {
   "cell_type": "code",
   "execution_count": 34,
   "metadata": {
    "scrolled": true
   },
   "outputs": [
    {
     "name": "stdout",
     "output_type": "stream",
     "text": [
      "Fitting 5 folds for each of 64 candidates, totalling 320 fits\n",
      "[CV 1/5] END max_features=2, min_samples_leaf=1, min_samples_split=3;, score=0.294 total time=   0.1s\n",
      "[CV 2/5] END max_features=2, min_samples_leaf=1, min_samples_split=3;, score=0.370 total time=   0.1s\n",
      "[CV 3/5] END max_features=2, min_samples_leaf=1, min_samples_split=3;, score=0.397 total time=   0.1s\n",
      "[CV 4/5] END max_features=2, min_samples_leaf=1, min_samples_split=3;, score=0.199 total time=   0.1s\n",
      "[CV 5/5] END max_features=2, min_samples_leaf=1, min_samples_split=3;, score=0.290 total time=   0.1s\n",
      "[CV 1/5] END max_features=2, min_samples_leaf=1, min_samples_split=9;, score=0.294 total time=   0.1s\n",
      "[CV 2/5] END max_features=2, min_samples_leaf=1, min_samples_split=9;, score=0.370 total time=   0.1s\n",
      "[CV 3/5] END max_features=2, min_samples_leaf=1, min_samples_split=9;, score=0.397 total time=   0.1s\n",
      "[CV 4/5] END max_features=2, min_samples_leaf=1, min_samples_split=9;, score=0.199 total time=   0.1s\n",
      "[CV 5/5] END max_features=2, min_samples_leaf=1, min_samples_split=9;, score=0.290 total time=   0.1s\n",
      "[CV 1/5] END max_features=2, min_samples_leaf=1, min_samples_split=27;, score=0.293 total time=   0.1s\n",
      "[CV 2/5] END max_features=2, min_samples_leaf=1, min_samples_split=27;, score=0.370 total time=   0.1s\n",
      "[CV 3/5] END max_features=2, min_samples_leaf=1, min_samples_split=27;, score=0.397 total time=   0.1s\n",
      "[CV 4/5] END max_features=2, min_samples_leaf=1, min_samples_split=27;, score=0.199 total time=   0.1s\n",
      "[CV 5/5] END max_features=2, min_samples_leaf=1, min_samples_split=27;, score=0.290 total time=   0.1s\n",
      "[CV 1/5] END max_features=2, min_samples_leaf=1, min_samples_split=81;, score=0.291 total time=   0.1s\n",
      "[CV 2/5] END max_features=2, min_samples_leaf=1, min_samples_split=81;, score=0.370 total time=   0.1s\n",
      "[CV 3/5] END max_features=2, min_samples_leaf=1, min_samples_split=81;, score=0.396 total time=   0.1s\n",
      "[CV 4/5] END max_features=2, min_samples_leaf=1, min_samples_split=81;, score=0.199 total time=   0.1s\n",
      "[CV 5/5] END max_features=2, min_samples_leaf=1, min_samples_split=81;, score=0.293 total time=   0.1s\n",
      "[CV 1/5] END max_features=2, min_samples_leaf=3, min_samples_split=3;, score=0.293 total time=   0.1s\n",
      "[CV 2/5] END max_features=2, min_samples_leaf=3, min_samples_split=3;, score=0.367 total time=   0.1s\n",
      "[CV 3/5] END max_features=2, min_samples_leaf=3, min_samples_split=3;, score=0.396 total time=   0.2s\n",
      "[CV 4/5] END max_features=2, min_samples_leaf=3, min_samples_split=3;, score=0.197 total time=   0.1s\n",
      "[CV 5/5] END max_features=2, min_samples_leaf=3, min_samples_split=3;, score=0.290 total time=   0.2s\n",
      "[CV 1/5] END max_features=2, min_samples_leaf=3, min_samples_split=9;, score=0.293 total time=   0.2s\n",
      "[CV 2/5] END max_features=2, min_samples_leaf=3, min_samples_split=9;, score=0.367 total time=   0.2s\n",
      "[CV 3/5] END max_features=2, min_samples_leaf=3, min_samples_split=9;, score=0.396 total time=   0.1s\n",
      "[CV 4/5] END max_features=2, min_samples_leaf=3, min_samples_split=9;, score=0.197 total time=   0.1s\n",
      "[CV 5/5] END max_features=2, min_samples_leaf=3, min_samples_split=9;, score=0.290 total time=   0.1s\n",
      "[CV 1/5] END max_features=2, min_samples_leaf=3, min_samples_split=27;, score=0.293 total time=   0.1s\n",
      "[CV 2/5] END max_features=2, min_samples_leaf=3, min_samples_split=27;, score=0.367 total time=   0.1s\n",
      "[CV 3/5] END max_features=2, min_samples_leaf=3, min_samples_split=27;, score=0.396 total time=   0.1s\n",
      "[CV 4/5] END max_features=2, min_samples_leaf=3, min_samples_split=27;, score=0.198 total time=   0.1s\n",
      "[CV 5/5] END max_features=2, min_samples_leaf=3, min_samples_split=27;, score=0.290 total time=   0.1s\n",
      "[CV 1/5] END max_features=2, min_samples_leaf=3, min_samples_split=81;, score=0.291 total time=   0.1s\n",
      "[CV 2/5] END max_features=2, min_samples_leaf=3, min_samples_split=81;, score=0.366 total time=   0.1s\n",
      "[CV 3/5] END max_features=2, min_samples_leaf=3, min_samples_split=81;, score=0.394 total time=   0.1s\n",
      "[CV 4/5] END max_features=2, min_samples_leaf=3, min_samples_split=81;, score=0.197 total time=   0.2s\n",
      "[CV 5/5] END max_features=2, min_samples_leaf=3, min_samples_split=81;, score=0.293 total time=   0.1s\n",
      "[CV 1/5] END max_features=2, min_samples_leaf=9, min_samples_split=3;, score=0.290 total time=   0.1s\n",
      "[CV 2/5] END max_features=2, min_samples_leaf=9, min_samples_split=3;, score=0.360 total time=   0.1s\n",
      "[CV 3/5] END max_features=2, min_samples_leaf=9, min_samples_split=3;, score=0.389 total time=   0.1s\n",
      "[CV 4/5] END max_features=2, min_samples_leaf=9, min_samples_split=3;, score=0.196 total time=   0.1s\n",
      "[CV 5/5] END max_features=2, min_samples_leaf=9, min_samples_split=3;, score=0.285 total time=   0.1s\n",
      "[CV 1/5] END max_features=2, min_samples_leaf=9, min_samples_split=9;, score=0.290 total time=   0.1s\n",
      "[CV 2/5] END max_features=2, min_samples_leaf=9, min_samples_split=9;, score=0.360 total time=   0.1s\n",
      "[CV 3/5] END max_features=2, min_samples_leaf=9, min_samples_split=9;, score=0.389 total time=   0.1s\n",
      "[CV 4/5] END max_features=2, min_samples_leaf=9, min_samples_split=9;, score=0.196 total time=   0.1s\n",
      "[CV 5/5] END max_features=2, min_samples_leaf=9, min_samples_split=9;, score=0.285 total time=   0.1s\n",
      "[CV 1/5] END max_features=2, min_samples_leaf=9, min_samples_split=27;, score=0.290 total time=   0.1s\n",
      "[CV 2/5] END max_features=2, min_samples_leaf=9, min_samples_split=27;, score=0.360 total time=   0.1s\n",
      "[CV 3/5] END max_features=2, min_samples_leaf=9, min_samples_split=27;, score=0.389 total time=   0.1s\n",
      "[CV 4/5] END max_features=2, min_samples_leaf=9, min_samples_split=27;, score=0.196 total time=   0.1s\n",
      "[CV 5/5] END max_features=2, min_samples_leaf=9, min_samples_split=27;, score=0.285 total time=   0.1s\n",
      "[CV 1/5] END max_features=2, min_samples_leaf=9, min_samples_split=81;, score=0.289 total time=   0.2s\n",
      "[CV 2/5] END max_features=2, min_samples_leaf=9, min_samples_split=81;, score=0.360 total time=   0.2s\n",
      "[CV 3/5] END max_features=2, min_samples_leaf=9, min_samples_split=81;, score=0.390 total time=   0.2s\n",
      "[CV 4/5] END max_features=2, min_samples_leaf=9, min_samples_split=81;, score=0.196 total time=   0.1s\n",
      "[CV 5/5] END max_features=2, min_samples_leaf=9, min_samples_split=81;, score=0.289 total time=   0.1s\n",
      "[CV 1/5] END max_features=2, min_samples_leaf=27, min_samples_split=3;, score=0.271 total time=   0.1s\n",
      "[CV 2/5] END max_features=2, min_samples_leaf=27, min_samples_split=3;, score=0.332 total time=   0.1s\n",
      "[CV 3/5] END max_features=2, min_samples_leaf=27, min_samples_split=3;, score=0.369 total time=   0.1s\n",
      "[CV 4/5] END max_features=2, min_samples_leaf=27, min_samples_split=3;, score=0.184 total time=   0.1s\n",
      "[CV 5/5] END max_features=2, min_samples_leaf=27, min_samples_split=3;, score=0.273 total time=   0.1s\n",
      "[CV 1/5] END max_features=2, min_samples_leaf=27, min_samples_split=9;, score=0.271 total time=   0.1s\n",
      "[CV 2/5] END max_features=2, min_samples_leaf=27, min_samples_split=9;, score=0.332 total time=   0.1s\n",
      "[CV 3/5] END max_features=2, min_samples_leaf=27, min_samples_split=9;, score=0.369 total time=   0.1s\n",
      "[CV 4/5] END max_features=2, min_samples_leaf=27, min_samples_split=9;, score=0.184 total time=   0.1s\n",
      "[CV 5/5] END max_features=2, min_samples_leaf=27, min_samples_split=9;, score=0.273 total time=   0.1s\n",
      "[CV 1/5] END max_features=2, min_samples_leaf=27, min_samples_split=27;, score=0.271 total time=   0.1s\n",
      "[CV 2/5] END max_features=2, min_samples_leaf=27, min_samples_split=27;, score=0.332 total time=   0.1s\n",
      "[CV 3/5] END max_features=2, min_samples_leaf=27, min_samples_split=27;, score=0.369 total time=   0.1s\n",
      "[CV 4/5] END max_features=2, min_samples_leaf=27, min_samples_split=27;, score=0.184 total time=   0.1s\n",
      "[CV 5/5] END max_features=2, min_samples_leaf=27, min_samples_split=27;, score=0.273 total time=   0.1s\n",
      "[CV 1/5] END max_features=2, min_samples_leaf=27, min_samples_split=81;, score=0.272 total time=   0.1s\n",
      "[CV 2/5] END max_features=2, min_samples_leaf=27, min_samples_split=81;, score=0.333 total time=   0.1s\n",
      "[CV 3/5] END max_features=2, min_samples_leaf=27, min_samples_split=81;, score=0.370 total time=   0.1s\n",
      "[CV 4/5] END max_features=2, min_samples_leaf=27, min_samples_split=81;, score=0.185 total time=   0.1s\n",
      "[CV 5/5] END max_features=2, min_samples_leaf=27, min_samples_split=81;, score=0.276 total time=   0.1s\n",
      "[CV 1/5] END max_features=8, min_samples_leaf=1, min_samples_split=3;, score=0.440 total time=   0.2s\n",
      "[CV 2/5] END max_features=8, min_samples_leaf=1, min_samples_split=3;, score=0.538 total time=   0.4s\n",
      "[CV 3/5] END max_features=8, min_samples_leaf=1, min_samples_split=3;, score=0.588 total time=   0.2s\n",
      "[CV 4/5] END max_features=8, min_samples_leaf=1, min_samples_split=3;, score=0.292 total time=   0.2s\n",
      "[CV 5/5] END max_features=8, min_samples_leaf=1, min_samples_split=3;, score=0.442 total time=   0.3s\n",
      "[CV 1/5] END max_features=8, min_samples_leaf=1, min_samples_split=9;, score=0.440 total time=   0.2s\n",
      "[CV 2/5] END max_features=8, min_samples_leaf=1, min_samples_split=9;, score=0.538 total time=   0.2s\n",
      "[CV 3/5] END max_features=8, min_samples_leaf=1, min_samples_split=9;, score=0.588 total time=   0.1s\n",
      "[CV 4/5] END max_features=8, min_samples_leaf=1, min_samples_split=9;, score=0.292 total time=   0.2s\n",
      "[CV 5/5] END max_features=8, min_samples_leaf=1, min_samples_split=9;, score=0.442 total time=   0.2s\n",
      "[CV 1/5] END max_features=8, min_samples_leaf=1, min_samples_split=27;, score=0.440 total time=   0.2s\n",
      "[CV 2/5] END max_features=8, min_samples_leaf=1, min_samples_split=27;, score=0.538 total time=   0.2s\n",
      "[CV 3/5] END max_features=8, min_samples_leaf=1, min_samples_split=27;, score=0.588 total time=   0.2s\n",
      "[CV 4/5] END max_features=8, min_samples_leaf=1, min_samples_split=27;, score=0.292 total time=   0.2s\n",
      "[CV 5/5] END max_features=8, min_samples_leaf=1, min_samples_split=27;, score=0.442 total time=   0.2s\n",
      "[CV 1/5] END max_features=8, min_samples_leaf=1, min_samples_split=81;, score=0.440 total time=   0.2s\n",
      "[CV 2/5] END max_features=8, min_samples_leaf=1, min_samples_split=81;, score=0.536 total time=   0.2s\n",
      "[CV 3/5] END max_features=8, min_samples_leaf=1, min_samples_split=81;, score=0.588 total time=   0.1s\n",
      "[CV 4/5] END max_features=8, min_samples_leaf=1, min_samples_split=81;, score=0.292 total time=   0.2s\n",
      "[CV 5/5] END max_features=8, min_samples_leaf=1, min_samples_split=81;, score=0.443 total time=   0.2s\n",
      "[CV 1/5] END max_features=8, min_samples_leaf=3, min_samples_split=3;, score=0.439 total time=   0.2s\n",
      "[CV 2/5] END max_features=8, min_samples_leaf=3, min_samples_split=3;, score=0.538 total time=   0.2s\n",
      "[CV 3/5] END max_features=8, min_samples_leaf=3, min_samples_split=3;, score=0.587 total time=   0.2s\n",
      "[CV 4/5] END max_features=8, min_samples_leaf=3, min_samples_split=3;, score=0.293 total time=   0.2s\n",
      "[CV 5/5] END max_features=8, min_samples_leaf=3, min_samples_split=3;, score=0.441 total time=   0.2s\n",
      "[CV 1/5] END max_features=8, min_samples_leaf=3, min_samples_split=9;, score=0.439 total time=   0.2s\n",
      "[CV 2/5] END max_features=8, min_samples_leaf=3, min_samples_split=9;, score=0.538 total time=   0.2s\n",
      "[CV 3/5] END max_features=8, min_samples_leaf=3, min_samples_split=9;, score=0.587 total time=   0.2s\n",
      "[CV 4/5] END max_features=8, min_samples_leaf=3, min_samples_split=9;, score=0.293 total time=   0.2s\n",
      "[CV 5/5] END max_features=8, min_samples_leaf=3, min_samples_split=9;, score=0.441 total time=   0.2s\n",
      "[CV 1/5] END max_features=8, min_samples_leaf=3, min_samples_split=27;, score=0.439 total time=   0.2s\n",
      "[CV 2/5] END max_features=8, min_samples_leaf=3, min_samples_split=27;, score=0.538 total time=   0.2s\n",
      "[CV 3/5] END max_features=8, min_samples_leaf=3, min_samples_split=27;, score=0.587 total time=   0.3s\n",
      "[CV 4/5] END max_features=8, min_samples_leaf=3, min_samples_split=27;, score=0.293 total time=   0.2s\n",
      "[CV 5/5] END max_features=8, min_samples_leaf=3, min_samples_split=27;, score=0.441 total time=   0.3s\n",
      "[CV 1/5] END max_features=8, min_samples_leaf=3, min_samples_split=81;, score=0.439 total time=   0.3s\n",
      "[CV 2/5] END max_features=8, min_samples_leaf=3, min_samples_split=81;, score=0.536 total time=   0.3s\n",
      "[CV 3/5] END max_features=8, min_samples_leaf=3, min_samples_split=81;, score=0.587 total time=   0.2s\n",
      "[CV 4/5] END max_features=8, min_samples_leaf=3, min_samples_split=81;, score=0.292 total time=   0.2s\n",
      "[CV 5/5] END max_features=8, min_samples_leaf=3, min_samples_split=81;, score=0.442 total time=   0.1s\n",
      "[CV 1/5] END max_features=8, min_samples_leaf=9, min_samples_split=3;, score=0.439 total time=   0.2s\n",
      "[CV 2/5] END max_features=8, min_samples_leaf=9, min_samples_split=3;, score=0.537 total time=   0.1s\n",
      "[CV 3/5] END max_features=8, min_samples_leaf=9, min_samples_split=3;, score=0.585 total time=   0.2s\n",
      "[CV 4/5] END max_features=8, min_samples_leaf=9, min_samples_split=3;, score=0.291 total time=   0.2s\n",
      "[CV 5/5] END max_features=8, min_samples_leaf=9, min_samples_split=3;, score=0.442 total time=   0.2s\n",
      "[CV 1/5] END max_features=8, min_samples_leaf=9, min_samples_split=9;, score=0.439 total time=   0.2s\n",
      "[CV 2/5] END max_features=8, min_samples_leaf=9, min_samples_split=9;, score=0.537 total time=   0.2s\n",
      "[CV 3/5] END max_features=8, min_samples_leaf=9, min_samples_split=9;, score=0.585 total time=   0.2s\n",
      "[CV 4/5] END max_features=8, min_samples_leaf=9, min_samples_split=9;, score=0.291 total time=   0.2s\n",
      "[CV 5/5] END max_features=8, min_samples_leaf=9, min_samples_split=9;, score=0.442 total time=   0.2s\n",
      "[CV 1/5] END max_features=8, min_samples_leaf=9, min_samples_split=27;, score=0.439 total time=   0.2s\n",
      "[CV 2/5] END max_features=8, min_samples_leaf=9, min_samples_split=27;, score=0.537 total time=   0.2s\n",
      "[CV 3/5] END max_features=8, min_samples_leaf=9, min_samples_split=27;, score=0.586 total time=   0.2s\n",
      "[CV 4/5] END max_features=8, min_samples_leaf=9, min_samples_split=27;, score=0.291 total time=   0.2s\n",
      "[CV 5/5] END max_features=8, min_samples_leaf=9, min_samples_split=27;, score=0.442 total time=   0.2s\n",
      "[CV 1/5] END max_features=8, min_samples_leaf=9, min_samples_split=81;, score=0.439 total time=   0.2s\n",
      "[CV 2/5] END max_features=8, min_samples_leaf=9, min_samples_split=81;, score=0.535 total time=   0.2s\n",
      "[CV 3/5] END max_features=8, min_samples_leaf=9, min_samples_split=81;, score=0.586 total time=   0.2s\n",
      "[CV 4/5] END max_features=8, min_samples_leaf=9, min_samples_split=81;, score=0.291 total time=   0.2s\n",
      "[CV 5/5] END max_features=8, min_samples_leaf=9, min_samples_split=81;, score=0.443 total time=   0.2s\n",
      "[CV 1/5] END max_features=8, min_samples_leaf=27, min_samples_split=3;, score=0.438 total time=   0.2s\n",
      "[CV 2/5] END max_features=8, min_samples_leaf=27, min_samples_split=3;, score=0.535 total time=   0.2s\n",
      "[CV 3/5] END max_features=8, min_samples_leaf=27, min_samples_split=3;, score=0.586 total time=   0.2s\n",
      "[CV 4/5] END max_features=8, min_samples_leaf=27, min_samples_split=3;, score=0.289 total time=   0.2s\n",
      "[CV 5/5] END max_features=8, min_samples_leaf=27, min_samples_split=3;, score=0.440 total time=   0.2s\n",
      "[CV 1/5] END max_features=8, min_samples_leaf=27, min_samples_split=9;, score=0.438 total time=   0.2s\n",
      "[CV 2/5] END max_features=8, min_samples_leaf=27, min_samples_split=9;, score=0.535 total time=   0.2s\n",
      "[CV 3/5] END max_features=8, min_samples_leaf=27, min_samples_split=9;, score=0.586 total time=   0.2s\n",
      "[CV 4/5] END max_features=8, min_samples_leaf=27, min_samples_split=9;, score=0.289 total time=   0.2s\n",
      "[CV 5/5] END max_features=8, min_samples_leaf=27, min_samples_split=9;, score=0.440 total time=   0.2s\n",
      "[CV 1/5] END max_features=8, min_samples_leaf=27, min_samples_split=27;, score=0.438 total time=   0.2s\n",
      "[CV 2/5] END max_features=8, min_samples_leaf=27, min_samples_split=27;, score=0.535 total time=   0.2s\n",
      "[CV 3/5] END max_features=8, min_samples_leaf=27, min_samples_split=27;, score=0.586 total time=   0.2s\n",
      "[CV 4/5] END max_features=8, min_samples_leaf=27, min_samples_split=27;, score=0.289 total time=   0.2s\n",
      "[CV 5/5] END max_features=8, min_samples_leaf=27, min_samples_split=27;, score=0.440 total time=   0.2s\n",
      "[CV 1/5] END max_features=8, min_samples_leaf=27, min_samples_split=81;, score=0.439 total time=   0.2s\n",
      "[CV 2/5] END max_features=8, min_samples_leaf=27, min_samples_split=81;, score=0.535 total time=   0.2s\n",
      "[CV 3/5] END max_features=8, min_samples_leaf=27, min_samples_split=81;, score=0.586 total time=   0.2s\n",
      "[CV 4/5] END max_features=8, min_samples_leaf=27, min_samples_split=81;, score=0.288 total time=   0.2s\n",
      "[CV 5/5] END max_features=8, min_samples_leaf=27, min_samples_split=81;, score=0.442 total time=   0.3s\n",
      "[CV 1/5] END max_features=32, min_samples_leaf=1, min_samples_split=3;, score=0.517 total time=   0.6s\n",
      "[CV 2/5] END max_features=32, min_samples_leaf=1, min_samples_split=3;, score=0.631 total time=   0.6s\n",
      "[CV 3/5] END max_features=32, min_samples_leaf=1, min_samples_split=3;, score=0.688 total time=   0.5s\n",
      "[CV 4/5] END max_features=32, min_samples_leaf=1, min_samples_split=3;, score=0.354 total time=   0.6s\n",
      "[CV 5/5] END max_features=32, min_samples_leaf=1, min_samples_split=3;, score=0.526 total time=   0.5s\n",
      "[CV 1/5] END max_features=32, min_samples_leaf=1, min_samples_split=9;, score=0.517 total time=   0.5s\n",
      "[CV 2/5] END max_features=32, min_samples_leaf=1, min_samples_split=9;, score=0.631 total time=   0.5s\n",
      "[CV 3/5] END max_features=32, min_samples_leaf=1, min_samples_split=9;, score=0.688 total time=   0.4s\n",
      "[CV 4/5] END max_features=32, min_samples_leaf=1, min_samples_split=9;, score=0.354 total time=   0.4s\n",
      "[CV 5/5] END max_features=32, min_samples_leaf=1, min_samples_split=9;, score=0.526 total time=   0.4s\n",
      "[CV 1/5] END max_features=32, min_samples_leaf=1, min_samples_split=27;, score=0.517 total time=   0.5s\n",
      "[CV 2/5] END max_features=32, min_samples_leaf=1, min_samples_split=27;, score=0.631 total time=   0.6s\n",
      "[CV 3/5] END max_features=32, min_samples_leaf=1, min_samples_split=27;, score=0.688 total time=   0.6s\n",
      "[CV 4/5] END max_features=32, min_samples_leaf=1, min_samples_split=27;, score=0.354 total time=   0.6s\n",
      "[CV 5/5] END max_features=32, min_samples_leaf=1, min_samples_split=27;, score=0.526 total time=   0.5s\n",
      "[CV 1/5] END max_features=32, min_samples_leaf=1, min_samples_split=81;, score=0.517 total time=   0.5s\n",
      "[CV 2/5] END max_features=32, min_samples_leaf=1, min_samples_split=81;, score=0.631 total time=   0.6s\n",
      "[CV 3/5] END max_features=32, min_samples_leaf=1, min_samples_split=81;, score=0.688 total time=   0.5s\n",
      "[CV 4/5] END max_features=32, min_samples_leaf=1, min_samples_split=81;, score=0.356 total time=   0.5s\n",
      "[CV 5/5] END max_features=32, min_samples_leaf=1, min_samples_split=81;, score=0.525 total time=   0.6s\n",
      "[CV 1/5] END max_features=32, min_samples_leaf=3, min_samples_split=3;, score=0.518 total time=   0.5s\n",
      "[CV 2/5] END max_features=32, min_samples_leaf=3, min_samples_split=3;, score=0.631 total time=   0.6s\n",
      "[CV 3/5] END max_features=32, min_samples_leaf=3, min_samples_split=3;, score=0.689 total time=   0.6s\n",
      "[CV 4/5] END max_features=32, min_samples_leaf=3, min_samples_split=3;, score=0.355 total time=   0.6s\n",
      "[CV 5/5] END max_features=32, min_samples_leaf=3, min_samples_split=3;, score=0.526 total time=   0.5s\n",
      "[CV 1/5] END max_features=32, min_samples_leaf=3, min_samples_split=9;, score=0.518 total time=   0.5s\n",
      "[CV 2/5] END max_features=32, min_samples_leaf=3, min_samples_split=9;, score=0.631 total time=   0.6s\n",
      "[CV 3/5] END max_features=32, min_samples_leaf=3, min_samples_split=9;, score=0.689 total time=   0.6s\n",
      "[CV 4/5] END max_features=32, min_samples_leaf=3, min_samples_split=9;, score=0.355 total time=   0.6s\n",
      "[CV 5/5] END max_features=32, min_samples_leaf=3, min_samples_split=9;, score=0.526 total time=   0.6s\n",
      "[CV 1/5] END max_features=32, min_samples_leaf=3, min_samples_split=27;, score=0.517 total time=   0.5s\n",
      "[CV 2/5] END max_features=32, min_samples_leaf=3, min_samples_split=27;, score=0.631 total time=   0.6s\n",
      "[CV 3/5] END max_features=32, min_samples_leaf=3, min_samples_split=27;, score=0.688 total time=   0.5s\n",
      "[CV 4/5] END max_features=32, min_samples_leaf=3, min_samples_split=27;, score=0.355 total time=   0.4s\n",
      "[CV 5/5] END max_features=32, min_samples_leaf=3, min_samples_split=27;, score=0.526 total time=   0.5s\n",
      "[CV 1/5] END max_features=32, min_samples_leaf=3, min_samples_split=81;, score=0.518 total time=   0.4s\n",
      "[CV 2/5] END max_features=32, min_samples_leaf=3, min_samples_split=81;, score=0.632 total time=   0.5s\n",
      "[CV 3/5] END max_features=32, min_samples_leaf=3, min_samples_split=81;, score=0.689 total time=   0.4s\n",
      "[CV 4/5] END max_features=32, min_samples_leaf=3, min_samples_split=81;, score=0.356 total time=   0.5s\n",
      "[CV 5/5] END max_features=32, min_samples_leaf=3, min_samples_split=81;, score=0.526 total time=   0.4s\n",
      "[CV 1/5] END max_features=32, min_samples_leaf=9, min_samples_split=3;, score=0.519 total time=   0.4s\n",
      "[CV 2/5] END max_features=32, min_samples_leaf=9, min_samples_split=3;, score=0.632 total time=   0.4s\n",
      "[CV 3/5] END max_features=32, min_samples_leaf=9, min_samples_split=3;, score=0.688 total time=   0.5s\n",
      "[CV 4/5] END max_features=32, min_samples_leaf=9, min_samples_split=3;, score=0.355 total time=   0.5s\n",
      "[CV 5/5] END max_features=32, min_samples_leaf=9, min_samples_split=3;, score=0.526 total time=   0.5s\n",
      "[CV 1/5] END max_features=32, min_samples_leaf=9, min_samples_split=9;, score=0.519 total time=   0.5s\n",
      "[CV 2/5] END max_features=32, min_samples_leaf=9, min_samples_split=9;, score=0.632 total time=   0.5s\n",
      "[CV 3/5] END max_features=32, min_samples_leaf=9, min_samples_split=9;, score=0.688 total time=   0.5s\n",
      "[CV 4/5] END max_features=32, min_samples_leaf=9, min_samples_split=9;, score=0.355 total time=   0.5s\n",
      "[CV 5/5] END max_features=32, min_samples_leaf=9, min_samples_split=9;, score=0.526 total time=   0.5s\n",
      "[CV 1/5] END max_features=32, min_samples_leaf=9, min_samples_split=27;, score=0.519 total time=   0.5s\n",
      "[CV 2/5] END max_features=32, min_samples_leaf=9, min_samples_split=27;, score=0.632 total time=   0.5s\n",
      "[CV 3/5] END max_features=32, min_samples_leaf=9, min_samples_split=27;, score=0.688 total time=   0.5s\n",
      "[CV 4/5] END max_features=32, min_samples_leaf=9, min_samples_split=27;, score=0.355 total time=   0.5s\n",
      "[CV 5/5] END max_features=32, min_samples_leaf=9, min_samples_split=27;, score=0.526 total time=   0.5s\n",
      "[CV 1/5] END max_features=32, min_samples_leaf=9, min_samples_split=81;, score=0.520 total time=   0.5s\n",
      "[CV 2/5] END max_features=32, min_samples_leaf=9, min_samples_split=81;, score=0.632 total time=   0.5s\n",
      "[CV 3/5] END max_features=32, min_samples_leaf=9, min_samples_split=81;, score=0.688 total time=   0.5s\n",
      "[CV 4/5] END max_features=32, min_samples_leaf=9, min_samples_split=81;, score=0.356 total time=   0.5s\n",
      "[CV 5/5] END max_features=32, min_samples_leaf=9, min_samples_split=81;, score=0.526 total time=   0.5s\n",
      "[CV 1/5] END max_features=32, min_samples_leaf=27, min_samples_split=3;, score=0.518 total time=   0.4s\n",
      "[CV 2/5] END max_features=32, min_samples_leaf=27, min_samples_split=3;, score=0.630 total time=   0.4s\n",
      "[CV 3/5] END max_features=32, min_samples_leaf=27, min_samples_split=3;, score=0.686 total time=   0.5s\n",
      "[CV 4/5] END max_features=32, min_samples_leaf=27, min_samples_split=3;, score=0.353 total time=   0.5s\n",
      "[CV 5/5] END max_features=32, min_samples_leaf=27, min_samples_split=3;, score=0.523 total time=   0.6s\n",
      "[CV 1/5] END max_features=32, min_samples_leaf=27, min_samples_split=9;, score=0.518 total time=   0.6s\n",
      "[CV 2/5] END max_features=32, min_samples_leaf=27, min_samples_split=9;, score=0.630 total time=   0.6s\n",
      "[CV 3/5] END max_features=32, min_samples_leaf=27, min_samples_split=9;, score=0.686 total time=   0.6s\n",
      "[CV 4/5] END max_features=32, min_samples_leaf=27, min_samples_split=9;, score=0.353 total time=   0.5s\n",
      "[CV 5/5] END max_features=32, min_samples_leaf=27, min_samples_split=9;, score=0.523 total time=   0.5s\n",
      "[CV 1/5] END max_features=32, min_samples_leaf=27, min_samples_split=27;, score=0.518 total time=   0.5s\n",
      "[CV 2/5] END max_features=32, min_samples_leaf=27, min_samples_split=27;, score=0.630 total time=   0.6s\n",
      "[CV 3/5] END max_features=32, min_samples_leaf=27, min_samples_split=27;, score=0.686 total time=   0.6s\n",
      "[CV 4/5] END max_features=32, min_samples_leaf=27, min_samples_split=27;, score=0.353 total time=   0.5s\n",
      "[CV 5/5] END max_features=32, min_samples_leaf=27, min_samples_split=27;, score=0.523 total time=   0.6s\n",
      "[CV 1/5] END max_features=32, min_samples_leaf=27, min_samples_split=81;, score=0.518 total time=   0.5s\n",
      "[CV 2/5] END max_features=32, min_samples_leaf=27, min_samples_split=81;, score=0.629 total time=   0.6s\n",
      "[CV 3/5] END max_features=32, min_samples_leaf=27, min_samples_split=81;, score=0.686 total time=   0.6s\n",
      "[CV 4/5] END max_features=32, min_samples_leaf=27, min_samples_split=81;, score=0.355 total time=   0.6s\n",
      "[CV 5/5] END max_features=32, min_samples_leaf=27, min_samples_split=81;, score=0.524 total time=   0.6s\n",
      "[CV 1/5] END max_features=128, min_samples_leaf=1, min_samples_split=3;, score=0.529 total time=   2.0s\n",
      "[CV 2/5] END max_features=128, min_samples_leaf=1, min_samples_split=3;, score=0.645 total time=   1.8s\n",
      "[CV 3/5] END max_features=128, min_samples_leaf=1, min_samples_split=3;, score=0.702 total time=   1.7s\n",
      "[CV 4/5] END max_features=128, min_samples_leaf=1, min_samples_split=3;, score=0.373 total time=   1.8s\n",
      "[CV 5/5] END max_features=128, min_samples_leaf=1, min_samples_split=3;, score=0.534 total time=   1.6s\n",
      "[CV 1/5] END max_features=128, min_samples_leaf=1, min_samples_split=9;, score=0.528 total time=   1.6s\n",
      "[CV 2/5] END max_features=128, min_samples_leaf=1, min_samples_split=9;, score=0.645 total time=   1.7s\n",
      "[CV 3/5] END max_features=128, min_samples_leaf=1, min_samples_split=9;, score=0.702 total time=   1.7s\n",
      "[CV 4/5] END max_features=128, min_samples_leaf=1, min_samples_split=9;, score=0.373 total time=   1.7s\n",
      "[CV 5/5] END max_features=128, min_samples_leaf=1, min_samples_split=9;, score=0.533 total time=   1.8s\n",
      "[CV 1/5] END max_features=128, min_samples_leaf=1, min_samples_split=27;, score=0.528 total time=   1.6s\n",
      "[CV 2/5] END max_features=128, min_samples_leaf=1, min_samples_split=27;, score=0.645 total time=   1.6s\n",
      "[CV 3/5] END max_features=128, min_samples_leaf=1, min_samples_split=27;, score=0.702 total time=   1.5s\n",
      "[CV 4/5] END max_features=128, min_samples_leaf=1, min_samples_split=27;, score=0.373 total time=   1.4s\n",
      "[CV 5/5] END max_features=128, min_samples_leaf=1, min_samples_split=27;, score=0.533 total time=   1.4s\n",
      "[CV 1/5] END max_features=128, min_samples_leaf=1, min_samples_split=81;, score=0.528 total time=   1.5s\n",
      "[CV 2/5] END max_features=128, min_samples_leaf=1, min_samples_split=81;, score=0.646 total time=   1.6s\n",
      "[CV 3/5] END max_features=128, min_samples_leaf=1, min_samples_split=81;, score=0.703 total time=   1.6s\n",
      "[CV 4/5] END max_features=128, min_samples_leaf=1, min_samples_split=81;, score=0.374 total time=   1.8s\n",
      "[CV 5/5] END max_features=128, min_samples_leaf=1, min_samples_split=81;, score=0.533 total time=   1.8s\n",
      "[CV 1/5] END max_features=128, min_samples_leaf=3, min_samples_split=3;, score=0.528 total time=   1.8s\n",
      "[CV 2/5] END max_features=128, min_samples_leaf=3, min_samples_split=3;, score=0.646 total time=   1.5s\n",
      "[CV 3/5] END max_features=128, min_samples_leaf=3, min_samples_split=3;, score=0.702 total time=   1.5s\n",
      "[CV 4/5] END max_features=128, min_samples_leaf=3, min_samples_split=3;, score=0.374 total time=   1.5s\n",
      "[CV 5/5] END max_features=128, min_samples_leaf=3, min_samples_split=3;, score=0.532 total time=   1.6s\n",
      "[CV 1/5] END max_features=128, min_samples_leaf=3, min_samples_split=9;, score=0.528 total time=   1.7s\n",
      "[CV 2/5] END max_features=128, min_samples_leaf=3, min_samples_split=9;, score=0.646 total time=   1.6s\n",
      "[CV 3/5] END max_features=128, min_samples_leaf=3, min_samples_split=9;, score=0.702 total time=   1.7s\n",
      "[CV 4/5] END max_features=128, min_samples_leaf=3, min_samples_split=9;, score=0.374 total time=   1.6s\n",
      "[CV 5/5] END max_features=128, min_samples_leaf=3, min_samples_split=9;, score=0.532 total time=   1.6s\n",
      "[CV 1/5] END max_features=128, min_samples_leaf=3, min_samples_split=27;, score=0.528 total time=   1.5s\n",
      "[CV 2/5] END max_features=128, min_samples_leaf=3, min_samples_split=27;, score=0.646 total time=   1.5s\n",
      "[CV 3/5] END max_features=128, min_samples_leaf=3, min_samples_split=27;, score=0.702 total time=   1.7s\n",
      "[CV 4/5] END max_features=128, min_samples_leaf=3, min_samples_split=27;, score=0.374 total time=   1.5s\n",
      "[CV 5/5] END max_features=128, min_samples_leaf=3, min_samples_split=27;, score=0.532 total time=   1.5s\n",
      "[CV 1/5] END max_features=128, min_samples_leaf=3, min_samples_split=81;, score=0.528 total time=   1.5s\n",
      "[CV 2/5] END max_features=128, min_samples_leaf=3, min_samples_split=81;, score=0.647 total time=   1.4s\n",
      "[CV 3/5] END max_features=128, min_samples_leaf=3, min_samples_split=81;, score=0.704 total time=   1.6s\n",
      "[CV 4/5] END max_features=128, min_samples_leaf=3, min_samples_split=81;, score=0.374 total time=   1.5s\n",
      "[CV 5/5] END max_features=128, min_samples_leaf=3, min_samples_split=81;, score=0.533 total time=   1.6s\n",
      "[CV 1/5] END max_features=128, min_samples_leaf=9, min_samples_split=3;, score=0.531 total time=   1.5s\n",
      "[CV 2/5] END max_features=128, min_samples_leaf=9, min_samples_split=3;, score=0.647 total time=   1.5s\n",
      "[CV 3/5] END max_features=128, min_samples_leaf=9, min_samples_split=3;, score=0.702 total time=   1.7s\n",
      "[CV 4/5] END max_features=128, min_samples_leaf=9, min_samples_split=3;, score=0.374 total time=   1.4s\n",
      "[CV 5/5] END max_features=128, min_samples_leaf=9, min_samples_split=3;, score=0.533 total time=   1.4s\n",
      "[CV 1/5] END max_features=128, min_samples_leaf=9, min_samples_split=9;, score=0.531 total time=   1.4s\n",
      "[CV 2/5] END max_features=128, min_samples_leaf=9, min_samples_split=9;, score=0.647 total time=   1.4s\n",
      "[CV 3/5] END max_features=128, min_samples_leaf=9, min_samples_split=9;, score=0.702 total time=   1.6s\n",
      "[CV 4/5] END max_features=128, min_samples_leaf=9, min_samples_split=9;, score=0.374 total time=   1.4s\n",
      "[CV 5/5] END max_features=128, min_samples_leaf=9, min_samples_split=9;, score=0.533 total time=   1.4s\n",
      "[CV 1/5] END max_features=128, min_samples_leaf=9, min_samples_split=27;, score=0.530 total time=   1.4s\n",
      "[CV 2/5] END max_features=128, min_samples_leaf=9, min_samples_split=27;, score=0.647 total time=   1.4s\n",
      "[CV 3/5] END max_features=128, min_samples_leaf=9, min_samples_split=27;, score=0.702 total time=   1.4s\n",
      "[CV 4/5] END max_features=128, min_samples_leaf=9, min_samples_split=27;, score=0.374 total time=   1.3s\n",
      "[CV 5/5] END max_features=128, min_samples_leaf=9, min_samples_split=27;, score=0.534 total time=   1.3s\n",
      "[CV 1/5] END max_features=128, min_samples_leaf=9, min_samples_split=81;, score=0.531 total time=   1.4s\n",
      "[CV 2/5] END max_features=128, min_samples_leaf=9, min_samples_split=81;, score=0.647 total time=   1.3s\n",
      "[CV 3/5] END max_features=128, min_samples_leaf=9, min_samples_split=81;, score=0.703 total time=   1.5s\n",
      "[CV 4/5] END max_features=128, min_samples_leaf=9, min_samples_split=81;, score=0.374 total time=   1.5s\n",
      "[CV 5/5] END max_features=128, min_samples_leaf=9, min_samples_split=81;, score=0.533 total time=   1.4s\n",
      "[CV 1/5] END max_features=128, min_samples_leaf=27, min_samples_split=3;, score=0.530 total time=   1.4s\n",
      "[CV 2/5] END max_features=128, min_samples_leaf=27, min_samples_split=3;, score=0.645 total time=   1.4s\n",
      "[CV 3/5] END max_features=128, min_samples_leaf=27, min_samples_split=3;, score=0.702 total time=   1.4s\n",
      "[CV 4/5] END max_features=128, min_samples_leaf=27, min_samples_split=3;, score=0.374 total time=   1.3s\n",
      "[CV 5/5] END max_features=128, min_samples_leaf=27, min_samples_split=3;, score=0.531 total time=   1.4s\n",
      "[CV 1/5] END max_features=128, min_samples_leaf=27, min_samples_split=9;, score=0.530 total time=   1.4s\n",
      "[CV 2/5] END max_features=128, min_samples_leaf=27, min_samples_split=9;, score=0.645 total time=   1.3s\n",
      "[CV 3/5] END max_features=128, min_samples_leaf=27, min_samples_split=9;, score=0.702 total time=   1.5s\n",
      "[CV 4/5] END max_features=128, min_samples_leaf=27, min_samples_split=9;, score=0.374 total time=   1.6s\n",
      "[CV 5/5] END max_features=128, min_samples_leaf=27, min_samples_split=9;, score=0.531 total time=   1.4s\n",
      "[CV 1/5] END max_features=128, min_samples_leaf=27, min_samples_split=27;, score=0.530 total time=   1.4s\n",
      "[CV 2/5] END max_features=128, min_samples_leaf=27, min_samples_split=27;, score=0.645 total time=   1.3s\n",
      "[CV 3/5] END max_features=128, min_samples_leaf=27, min_samples_split=27;, score=0.702 total time=   1.3s\n",
      "[CV 4/5] END max_features=128, min_samples_leaf=27, min_samples_split=27;, score=0.374 total time=   1.3s\n",
      "[CV 5/5] END max_features=128, min_samples_leaf=27, min_samples_split=27;, score=0.531 total time=   1.4s\n",
      "[CV 1/5] END max_features=128, min_samples_leaf=27, min_samples_split=81;, score=0.529 total time=   1.3s\n",
      "[CV 2/5] END max_features=128, min_samples_leaf=27, min_samples_split=81;, score=0.644 total time=   1.3s\n",
      "[CV 3/5] END max_features=128, min_samples_leaf=27, min_samples_split=81;, score=0.702 total time=   1.6s\n",
      "[CV 4/5] END max_features=128, min_samples_leaf=27, min_samples_split=81;, score=0.373 total time=   1.7s\n",
      "[CV 5/5] END max_features=128, min_samples_leaf=27, min_samples_split=81;, score=0.531 total time=   1.7s\n"
     ]
    },
    {
     "data": {
      "text/plain": [
       "GridSearchCV(estimator=GradientBoostingRegressor(learning_rate=0.010000000000000002,\n",
       "                                                 max_depth=2, n_estimators=512,\n",
       "                                                 random_state=1,\n",
       "                                                 warm_start=True),\n",
       "             param_grid={'max_features': array([  2,   8,  32, 128], dtype=int32),\n",
       "                         'min_samples_leaf': [1, 3, 9, 27],\n",
       "                         'min_samples_split': [3, 9, 27, 81]},\n",
       "             scoring='r2', verbose=3)"
      ]
     },
     "execution_count": 34,
     "metadata": {},
     "output_type": "execute_result"
    }
   ],
   "source": [
    "gs5.fit(x1, y1)"
   ]
  },
  {
   "cell_type": "code",
   "execution_count": 54,
   "metadata": {},
   "outputs": [],
   "source": [
    "maxim = -1\n",
    "features = None\n",
    "samples_leafs = None\n",
    "samples_splits = None\n",
    "for i in zip(gs5.cv_results_['mean_test_score'], gs5.cv_results_['param_max_features'], gs5.cv_results_['param_min_samples_leaf'], gs5.cv_results_['param_min_samples_split']):\n",
    "    if i[0] > maxim:\n",
    "        maxim = i[0]\n",
    "        features = i[1]\n",
    "        samples_leafs = i[2]\n",
    "        samples_splits = i[3]"
   ]
  },
  {
   "cell_type": "markdown",
   "metadata": {},
   "source": [
    "Оптимальные значения параметров:\n",
    "* _max_features_ - **128**\n",
    "* _min_samples_leaf_ - **9**\n",
    "* _max_depth_ - **2**"
   ]
  },
  {
   "cell_type": "code",
   "execution_count": 55,
   "metadata": {},
   "outputs": [],
   "source": [
    "gb = GradientBoostingRegressor(learning_rate=learning_r, n_estimators=n_estim, max_depth=2, max_features=features, min_samples_leaf=samples_leafs, min_samples_split=samples_splits, random_state=1, warm_start=True)"
   ]
  },
  {
   "cell_type": "code",
   "execution_count": 56,
   "metadata": {},
   "outputs": [
    {
     "data": {
      "text/plain": [
       "GradientBoostingRegressor(learning_rate=0.010000000000000002, max_depth=2,\n",
       "                          max_features=128, min_samples_leaf=9,\n",
       "                          min_samples_split=81, n_estimators=512,\n",
       "                          random_state=1, warm_start=True)"
      ]
     },
     "execution_count": 56,
     "metadata": {},
     "output_type": "execute_result"
    }
   ],
   "source": [
    "gb.fit(x1, y1)"
   ]
  },
  {
   "cell_type": "markdown",
   "metadata": {},
   "source": [
    "__Задание 3.__\n",
    "\n",
    " __(1 балл)__ Выведите качество случайного леса и градиентного бустинга на x2, y2, а также качество модели, представляющей собой усреднение предсказаний двух обученных моделей. Какой из трех вариантов работает лучше?"
   ]
  },
  {
   "cell_type": "code",
   "execution_count": 121,
   "metadata": {},
   "outputs": [
    {
     "name": "stdout",
     "output_type": "stream",
     "text": [
      "Качество случайного леса равно 0.556449502555437\n"
     ]
    }
   ],
   "source": [
    "print(f'Качество случайного леса равно {tree.score(x2, y2)}')"
   ]
  },
  {
   "cell_type": "code",
   "execution_count": 122,
   "metadata": {},
   "outputs": [
    {
     "name": "stdout",
     "output_type": "stream",
     "text": [
      "Качество градиентного бустинга равно 0.5621075126858015\n"
     ]
    }
   ],
   "source": [
    "print(f'Качество градиентного бустинга равно {gb.score(x2, y2)}')"
   ]
  },
  {
   "cell_type": "code",
   "execution_count": 129,
   "metadata": {},
   "outputs": [
    {
     "name": "stdout",
     "output_type": "stream",
     "text": [
      "Качество модели, представляющей собой усреднение предсказаний двух обученных моделей равно 0.5604696959922962\n"
     ]
    }
   ],
   "source": [
    "from sklearn.metrics import r2_score\n",
    "preds_tree = tree.predict(x2)\n",
    "preds_gb = gb.predict(x2)\n",
    "preds_average = np.average(np.hstack((preds_tree.reshape(-1, 1), preds_gb.reshape(-1, 1))), axis=1)\n",
    "print(f'Качество модели, представляющей собой усреднение предсказаний двух обученных моделей равно {r2_score(y2, preds_average)}')"
   ]
  },
  {
   "cell_type": "markdown",
   "metadata": {},
   "source": [
    "##### Какой из трех вариантов работает лучше? <br>\n",
    "\n",
    "Лучше всего работает **градиентный бустинг**!"
   ]
  },
  {
   "cell_type": "markdown",
   "metadata": {},
   "source": [
    "__Задание 4.__\n",
    "\n",
    " __(1 балл)__  Реализуйте блендинг. Обучите линейную регрессию на признаках - выходах двух моделей по выборке x2, y2. "
   ]
  },
  {
   "cell_type": "code",
   "execution_count": 77,
   "metadata": {},
   "outputs": [],
   "source": [
    "from sklearn.linear_model import LinearRegression"
   ]
  },
  {
   "cell_type": "code",
   "execution_count": 130,
   "metadata": {},
   "outputs": [],
   "source": [
    "meta_X = np.hstack((preds_tree.reshape(-1, 1), preds_gb.reshape(-1, 1)))"
   ]
  },
  {
   "cell_type": "code",
   "execution_count": 106,
   "metadata": {},
   "outputs": [],
   "source": [
    "blender = LinearRegression()"
   ]
  },
  {
   "cell_type": "code",
   "execution_count": 107,
   "metadata": {
    "scrolled": true
   },
   "outputs": [
    {
     "data": {
      "text/plain": [
       "LinearRegression()"
      ]
     },
     "execution_count": 107,
     "metadata": {},
     "output_type": "execute_result"
    }
   ],
   "source": [
    "blender.fit(meta_X, y2)"
   ]
  },
  {
   "cell_type": "markdown",
   "metadata": {},
   "source": [
    "__Задание 5.__\n",
    "\n",
    " __(0.5 балла)__ Выведите качество случайного леса и градиентного бустинга на x3, y3, качество модели, представляющей собой усреднение предсказаний двух обученных моделей, а также качество блендинга. Какая из четырех моделей работает лучше? Работает ли блендинг лучше усреднения? Выведите веса блендинга, какой из базовых алгоритмов вносит большой вклад в итоговую модель?"
   ]
  },
  {
   "cell_type": "code",
   "execution_count": 132,
   "metadata": {},
   "outputs": [
    {
     "name": "stdout",
     "output_type": "stream",
     "text": [
      "Качество случайного леса равно 0.6122604181520519\n"
     ]
    }
   ],
   "source": [
    "print(f'Качество случайного леса равно {tree.score(x3, y3)}')"
   ]
  },
  {
   "cell_type": "code",
   "execution_count": 133,
   "metadata": {},
   "outputs": [
    {
     "name": "stdout",
     "output_type": "stream",
     "text": [
      "Качество градиентного бустинга равно 0.6149062261083993\n"
     ]
    }
   ],
   "source": [
    "print(f'Качество градиентного бустинга равно {gb.score(x3, y3)}')"
   ]
  },
  {
   "cell_type": "code",
   "execution_count": 134,
   "metadata": {},
   "outputs": [
    {
     "name": "stdout",
     "output_type": "stream",
     "text": [
      "Качество модели, представляющей собой усреднение предсказаний двух обученных моделей равно 0.6147501453268438\n"
     ]
    }
   ],
   "source": [
    "pred_tree = tree.predict(x3)\n",
    "pred_gb = gb.predict(x3)\n",
    "pred_average = np.average(np.hstack((pred_tree.reshape(-1, 1), pred_gb.reshape(-1, 1))), axis=1)\n",
    "print(f'Качество модели, представляющей собой усреднение предсказаний двух обученных моделей равно {r2_score(y3, pred_average)}')"
   ]
  },
  {
   "cell_type": "code",
   "execution_count": 135,
   "metadata": {},
   "outputs": [],
   "source": [
    "meta_X_new = np.hstack((pred_tree.reshape(-1, 1), pred_gb.reshape(-1, 1)))"
   ]
  },
  {
   "cell_type": "code",
   "execution_count": 144,
   "metadata": {},
   "outputs": [
    {
     "name": "stdout",
     "output_type": "stream",
     "text": [
      "Качество блендинга равно 0.6174466032292583\n"
     ]
    }
   ],
   "source": [
    "print(f'Качество блендинга равно {blender.score(meta_X_new, y3)}')"
   ]
  },
  {
   "cell_type": "markdown",
   "metadata": {},
   "source": [
    "##### Какая из четырех моделей работает лучше? Работает ли блендинг лучше усреднения?<br>\n",
    "\n",
    "Из всех моделей самое высокое качество у **блендинга**, так что понятно, что он работает и лучше усреденения"
   ]
  },
  {
   "cell_type": "code",
   "execution_count": 145,
   "metadata": {
    "scrolled": true
   },
   "outputs": [
    {
     "name": "stdout",
     "output_type": "stream",
     "text": [
      "Веса блендинга равны [-0.38607839  1.47322099]\n"
     ]
    }
   ],
   "source": [
    "print(f'Веса блендинга равны {blender.coef_}')"
   ]
  },
  {
   "cell_type": "markdown",
   "metadata": {},
   "source": [
    "##### Какой из базовых алгоритмов вносит большой вклад в итоговую модель?<br>\n",
    "\n",
    "Больший вклад в итоговую модель вносит второй базовый алгоритм, т. е. **градиентный бустинг**!"
   ]
  }
 ],
 "metadata": {
  "_change_revision": 113,
  "_is_fork": false,
  "kernelspec": {
   "display_name": "Python 3 (ipykernel)",
   "language": "python",
   "name": "python3"
  },
  "language_info": {
   "codemirror_mode": {
    "name": "ipython",
    "version": 3
   },
   "file_extension": ".py",
   "mimetype": "text/x-python",
   "name": "python",
   "nbconvert_exporter": "python",
   "pygments_lexer": "ipython3",
   "version": "3.10.3"
  }
 },
 "nbformat": 4,
 "nbformat_minor": 1
}
